{
 "cells": [
  {
   "cell_type": "markdown",
   "metadata": {
    "application/vnd.databricks.v1+cell": {
     "cellMetadata": {
      "byteLimit": 2048000,
      "rowLimit": 10000
     },
     "inputWidgets": {},
     "nuid": "efcb5791-894a-4f67-9af7-35f524376445",
     "showTitle": false,
     "title": ""
    }
   },
   "source": [
    "# Imports"
   ]
  },
  {
   "cell_type": "code",
   "execution_count": 0,
   "metadata": {
    "application/vnd.databricks.v1+cell": {
     "cellMetadata": {
      "byteLimit": 2048000,
      "rowLimit": 10000
     },
     "inputWidgets": {},
     "nuid": "5f5b5d8a-916a-4524-9bb0-b7a31fda41c4",
     "showTitle": false,
     "title": ""
    }
   },
   "outputs": [],
   "source": [
    "from datetime import datetime, timedelta\n",
    "from dateutil.relativedelta import relativedelta"
   ]
  },
  {
   "cell_type": "markdown",
   "metadata": {
    "application/vnd.databricks.v1+cell": {
     "cellMetadata": {
      "byteLimit": 2048000,
      "rowLimit": 10000
     },
     "inputWidgets": {},
     "nuid": "15dcfd26-fc24-4832-aa33-355efc885636",
     "showTitle": false,
     "title": ""
    }
   },
   "source": [
    "# Widgets and Parameters"
   ]
  },
  {
   "cell_type": "code",
   "execution_count": 0,
   "metadata": {
    "application/vnd.databricks.v1+cell": {
     "cellMetadata": {
      "byteLimit": 2048000,
      "rowLimit": 10000
     },
     "inputWidgets": {},
     "nuid": "2aceff78-d603-4257-a2bc-7b52a3412617",
     "showTitle": false,
     "title": ""
    }
   },
   "outputs": [],
   "source": [
    "dbutils.widgets.text(\"scenario\", \"all\")\n",
    "scenario_run = dbutils.widgets.get(\"scenario\").lower()"
   ]
  },
  {
   "cell_type": "code",
   "execution_count": 0,
   "metadata": {
    "application/vnd.databricks.v1+cell": {
     "cellMetadata": {
      "byteLimit": 2048000,
      "rowLimit": 10000
     },
     "inputWidgets": {},
     "nuid": "cbf20d08-7ede-4b66-b09e-28713ba5e45d",
     "showTitle": false,
     "title": ""
    }
   },
   "outputs": [
    {
     "output_type": "execute_result",
     "data": {
      "text/plain": [
       "'default rigs'"
      ]
     },
     "execution_count": 17,
     "metadata": {},
     "output_type": "execute_result"
    }
   ],
   "source": [
    "scenario_run"
   ]
  },
  {
   "cell_type": "code",
   "execution_count": 0,
   "metadata": {
    "application/vnd.databricks.v1+cell": {
     "cellMetadata": {
      "byteLimit": 2048000,
      "rowLimit": 10000
     },
     "inputWidgets": {},
     "nuid": "0bfbc5ac-8626-4b9f-b282-8428e1e29fcd",
     "showTitle": false,
     "title": ""
    }
   },
   "outputs": [],
   "source": [
    "# condition preparation\n",
    "if scenario_run == \"all\":\n",
    "    scenario_condition = \"and scenario_name = 'default'\"\n",
    "else:\n",
    "    scenario_condition = f\"and scenario_name = '{scenario_run}'\""
   ]
  },
  {
   "cell_type": "code",
   "execution_count": 0,
   "metadata": {
    "application/vnd.databricks.v1+cell": {
     "cellMetadata": {
      "byteLimit": 2048000,
      "implicitDf": true,
      "rowLimit": 10000
     },
     "inputWidgets": {},
     "nuid": "f1b7855d-e7c4-4f1d-bf5b-5b728a6cd5f7",
     "showTitle": false,
     "title": ""
    }
   },
   "outputs": [],
   "source": [
    "# %sql\n",
    "# insert into table produced.drillout_model_scenarios (scenario_name, basin, flow_unit, number_of_rigs, forecast_years, cycle_times_min_cutoff_years, rigs_min_cutoff_years, active_rigs_min_cutoff_months) values (\"default rigs\", \"GULF COAST EAST\", \"HAYNESVILLE\", null, 15, 5, 2, 6)"
   ]
  },
  {
   "cell_type": "code",
   "execution_count": 0,
   "metadata": {
    "application/vnd.databricks.v1+cell": {
     "cellMetadata": {
      "byteLimit": 2048000,
      "implicitDf": true,
      "rowLimit": 10000
     },
     "inputWidgets": {},
     "nuid": "4d7a0968-e2c6-4edd-ab07-e41338f56214",
     "showTitle": false,
     "title": ""
    }
   },
   "outputs": [
    {
     "output_type": "display_data",
     "data": {
      "text/html": [
       "<style scoped>\n",
       "  .table-result-container {\n",
       "    max-height: 300px;\n",
       "    overflow: auto;\n",
       "  }\n",
       "  table, th, td {\n",
       "    border: 1px solid black;\n",
       "    border-collapse: collapse;\n",
       "  }\n",
       "  th, td {\n",
       "    padding: 5px;\n",
       "  }\n",
       "  th {\n",
       "    text-align: left;\n",
       "  }\n",
       "</style><div class='table-result-container'><table class='table-result'><thead style='background-color: white'><tr><th>scenario_id</th><th>scenario_name</th><th>basin</th><th>flow_unit</th><th>number_of_rigs</th><th>forecast_years</th><th>cycle_times_min_cutoff_years</th><th>rigs_min_cutoff_years</th><th>active_rigs_min_cutoff_months</th></tr></thead><tbody><tr><td>2</td><td>testing</td><td>GULF COAST EAST</td><td>HAYNESVILLE</td><td>35</td><td>15</td><td>5</td><td>2</td><td>6</td></tr><tr><td>4</td><td>default rigs</td><td>GULF COAST EAST</td><td>HAYNESVILLE</td><td>null</td><td>15</td><td>5</td><td>2</td><td>6</td></tr><tr><td>1</td><td>default</td><td>GULF COAST EAST</td><td>HAYNESVILLE</td><td>30</td><td>15</td><td>5</td><td>2</td><td>6</td></tr><tr><td>3</td><td>testing</td><td>GULF COAST EAST</td><td>HAYNESVILLE</td><td>null</td><td>15</td><td>5</td><td>2</td><td>6</td></tr></tbody></table></div>"
      ]
     },
     "metadata": {
      "application/vnd.databricks.v1+output": {
       "addedWidgets": {},
       "aggData": [],
       "aggError": "",
       "aggOverflow": false,
       "aggSchema": [],
       "aggSeriesLimitReached": false,
       "aggType": "",
       "arguments": {},
       "columnCustomDisplayInfos": {},
       "data": [
        [
         2,
         "testing",
         "GULF COAST EAST",
         "HAYNESVILLE",
         35,
         15,
         5,
         2,
         6
        ],
        [
         4,
         "default rigs",
         "GULF COAST EAST",
         "HAYNESVILLE",
         null,
         15,
         5,
         2,
         6
        ],
        [
         1,
         "default",
         "GULF COAST EAST",
         "HAYNESVILLE",
         30,
         15,
         5,
         2,
         6
        ],
        [
         3,
         "testing",
         "GULF COAST EAST",
         "HAYNESVILLE",
         null,
         15,
         5,
         2,
         6
        ]
       ],
       "datasetInfos": [],
       "dbfsResultPath": null,
       "isJsonSchema": true,
       "metadata": {
        "dataframeName": "_sqldf",
        "executionCount": 20
       },
       "overflow": false,
       "plotOptions": {
        "customPlotOptions": {},
        "displayType": "table",
        "pivotAggregation": null,
        "pivotColumns": null,
        "xColumns": null,
        "yColumns": null
       },
       "removedWidgets": [],
       "schema": [
        {
         "metadata": "{}",
         "name": "scenario_id",
         "type": "\"long\""
        },
        {
         "metadata": "{}",
         "name": "scenario_name",
         "type": "\"string\""
        },
        {
         "metadata": "{}",
         "name": "basin",
         "type": "\"string\""
        },
        {
         "metadata": "{}",
         "name": "flow_unit",
         "type": "\"string\""
        },
        {
         "metadata": "{}",
         "name": "number_of_rigs",
         "type": "\"integer\""
        },
        {
         "metadata": "{}",
         "name": "forecast_years",
         "type": "\"integer\""
        },
        {
         "metadata": "{}",
         "name": "cycle_times_min_cutoff_years",
         "type": "\"integer\""
        },
        {
         "metadata": "{}",
         "name": "rigs_min_cutoff_years",
         "type": "\"integer\""
        },
        {
         "metadata": "{}",
         "name": "active_rigs_min_cutoff_months",
         "type": "\"integer\""
        }
       ],
       "type": "table"
      }
     },
     "output_type": "display_data"
    }
   ],
   "source": [
    "%sql\n",
    "select * from produced.drillout_model_scenarios"
   ]
  },
  {
   "cell_type": "code",
   "execution_count": 0,
   "metadata": {
    "application/vnd.databricks.v1+cell": {
     "cellMetadata": {
      "byteLimit": 2048000,
      "rowLimit": 10000
     },
     "inputWidgets": {},
     "nuid": "b4402570-218b-4858-8f73-a5f2546d7c03",
     "showTitle": false,
     "title": ""
    }
   },
   "outputs": [],
   "source": [
    "scenarios= spark.sql(\n",
    "    f\"\"\"\n",
    "          select * \n",
    "          from produced.drillout_model_scenarios \n",
    "          where 1=1 \n",
    "          {scenario_condition}\n",
    "          \"\"\"\n",
    ").collect()"
   ]
  },
  {
   "cell_type": "code",
   "execution_count": 0,
   "metadata": {
    "application/vnd.databricks.v1+cell": {
     "cellMetadata": {
      "byteLimit": 2048000,
      "rowLimit": 10000
     },
     "inputWidgets": {},
     "nuid": "694cb635-3871-4c93-a646-d5a029542184",
     "showTitle": false,
     "title": ""
    }
   },
   "outputs": [],
   "source": [
    "# Constants declaration\n",
    "cutoff_perc_for_misc_operators = 5\n",
    "buffer_days_for_rig_movement = 10\n",
    "current_date = datetime.now()"
   ]
  },
  {
   "cell_type": "markdown",
   "metadata": {
    "application/vnd.databricks.v1+cell": {
     "cellMetadata": {
      "byteLimit": 2048000,
      "rowLimit": 10000
     },
     "inputWidgets": {},
     "nuid": "f6fb90e5-92b0-4d0d-84c5-627a18899a29",
     "showTitle": false,
     "title": ""
    }
   },
   "source": [
    "# Cycle Time Model"
   ]
  },
  {
   "cell_type": "code",
   "execution_count": 0,
   "metadata": {
    "application/vnd.databricks.v1+cell": {
     "cellMetadata": {
      "byteLimit": 2048000,
      "rowLimit": 10000
     },
     "inputWidgets": {},
     "nuid": "b7885aa3-d75f-4736-8374-858b83bb290a",
     "showTitle": false,
     "title": ""
    }
   },
   "outputs": [],
   "source": [
    "for scenario in scenarios:\n",
    "    params = {}\n",
    "    params[\"basin_of_interest\"] = scenario.basin\n",
    "    params[\"cutoff_date_for_training_data\"] = (\n",
    "        (\n",
    "            current_date\n",
    "            - relativedelta(months=12 * scenario.cycle_times_min_cutoff_years)\n",
    "        )\n",
    "        .replace(day=1)\n",
    "        .date()\n",
    "    )\n",
    "    params[\"flow_unit_of_interest\"] = scenario.flow_unit\n",
    "\n",
    "    params[\"scenario_id\"] = scenario.scenario_id\n",
    "    params['current_date'] = current_date.date()\n",
    "    dbutils.notebook.run(\"./01-CYCLE-TIME-MODEL\", 0, params)"
   ]
  },
  {
   "cell_type": "markdown",
   "metadata": {
    "application/vnd.databricks.v1+cell": {
     "cellMetadata": {
      "byteLimit": 2048000,
      "rowLimit": 10000
     },
     "inputWidgets": {},
     "nuid": "f7640b74-33c9-4419-af54-0da1e4e28d5b",
     "showTitle": false,
     "title": ""
    }
   },
   "source": [
    "# Rigs Model"
   ]
  },
  {
   "cell_type": "code",
   "execution_count": 0,
   "metadata": {
    "application/vnd.databricks.v1+cell": {
     "cellMetadata": {
      "byteLimit": 2048000,
      "rowLimit": 10000
     },
     "inputWidgets": {},
     "nuid": "4d8562b8-8271-4387-9db0-cb01efc3441b",
     "showTitle": false,
     "title": ""
    }
   },
   "outputs": [],
   "source": [
    "for scenario in scenarios:\n",
    "    params = {}\n",
    "    params[\"user_input_for_num_of_rigs\"] = scenario.number_of_rigs\n",
    "    params[\"basin_of_interest\"] = scenario.basin\n",
    "    params[\"flow_unit_of_interest\"] = scenario.flow_unit\n",
    "    params[\"desired_active_rig_date\"] = (\n",
    "        (current_date - relativedelta(months=scenario.active_rigs_min_cutoff_months))\n",
    "        .replace(day=1)\n",
    "        .date()\n",
    "    )\n",
    "    params[\"cutoff_date_to_train_rig_model\"] = (\n",
    "        (current_date - relativedelta(months=12 * scenario.rigs_min_cutoff_years))\n",
    "        .replace(day=1)\n",
    "        .date()\n",
    "    )\n",
    "    params[\"cutoff_perc_for_misc_operators\"] = cutoff_perc_for_misc_operators\n",
    "    params[\"scenario_id\"] = scenario.scenario_id\n",
    "\n",
    "    params['current_date'] = current_date.date()\n",
    "    \n",
    "    dbutils.notebook.run(\"./02-RIG-MODEL\", 0, arguments=params)"
   ]
  },
  {
   "cell_type": "markdown",
   "metadata": {
    "application/vnd.databricks.v1+cell": {
     "cellMetadata": {
      "byteLimit": 2048000,
      "rowLimit": 10000
     },
     "inputWidgets": {},
     "nuid": "0e4f9151-7d08-46e0-a686-43ec2e35f851",
     "showTitle": false,
     "title": ""
    }
   },
   "source": [
    "# Drilling Scheduling Model"
   ]
  },
  {
   "cell_type": "code",
   "execution_count": 0,
   "metadata": {
    "application/vnd.databricks.v1+cell": {
     "cellMetadata": {
      "byteLimit": 2048000,
      "rowLimit": 10000
     },
     "inputWidgets": {},
     "nuid": "65756193-7694-42bb-87ba-8525a051c168",
     "showTitle": false,
     "title": ""
    }
   },
   "outputs": [],
   "source": [
    "for scenario in scenarios:\n",
    "    params = {}\n",
    "    params[\"flow_unit_of_interest\"] = scenario.flow_unit\n",
    "    params['basin_of_interest'] = scenario.basin\n",
    "    params[\"inventory_drilling_end_time\"] = (\n",
    "        (current_date + relativedelta(months=12 * int(scenario.forecast_years)))\n",
    "        .replace(day=1)\n",
    "        .date()\n",
    "    )\n",
    "    params[\"buffer_days_for_rig_movement\"] = buffer_days_for_rig_movement\n",
    "    params[\"scenario_id\"] = scenario.scenario_id\n",
    " \n",
    "    dbutils.notebook.run(\"./03-DRILLING-SCHEDULING-MODEL\", 0, params)"
   ]
  },
  {
   "cell_type": "markdown",
   "metadata": {
    "application/vnd.databricks.v1+cell": {
     "cellMetadata": {
      "byteLimit": 2048000,
      "rowLimit": 10000
     },
     "inputWidgets": {},
     "nuid": "03dee6a0-2a0c-45bc-9df0-dcd2e3fd09c6",
     "showTitle": false,
     "title": ""
    }
   },
   "source": [
    "# Production Estimation Model"
   ]
  },
  {
   "cell_type": "code",
   "execution_count": 0,
   "metadata": {
    "application/vnd.databricks.v1+cell": {
     "cellMetadata": {
      "byteLimit": 2048000,
      "rowLimit": 10000
     },
     "inputWidgets": {},
     "nuid": "f0730880-50d8-4d1b-b17b-df2a9b919c37",
     "showTitle": false,
     "title": ""
    }
   },
   "outputs": [],
   "source": [
    "for scenario in scenarios:\n",
    "    params = {}\n",
    "    params[\"basin_of_interest\"] = scenario.basin\n",
    "    params['flowunit_of_interest'] = scenario.flow_unit\n",
    "    params[\"desired_minimum_date_for_producing_wells\"] = (\n",
    "        (\n",
    "            current_date\n",
    "            - relativedelta(months=12 * scenario.cycle_times_min_cutoff_years)\n",
    "        )\n",
    "        .replace(day=1)\n",
    "        .date()\n",
    "    )\n",
    "    params[\"desired_maximum_date_for_producing_wells\"] = (\n",
    "        (current_date + relativedelta(months=12 * int(scenario.forecast_years)))\n",
    "        .replace(day=1)\n",
    "        .date()\n",
    "    ) \n",
    "    params[\"desired_wip_wells_date\"] = (\n",
    "        (current_date - relativedelta(months=scenario.active_rigs_min_cutoff_months))\n",
    "        .replace(day=1)\n",
    "        .date()\n",
    "    )\n",
    "    params[\"cutoff_first_prod_date_for_wip_wells\"] = (\n",
    "        (current_date - relativedelta(months=scenario.active_rigs_min_cutoff_months))\n",
    "        .replace(day=1)\n",
    "        .date()\n",
    "    )\n",
    "    params[\"desired_first_prod_date_for_wip_wells\"] = (\n",
    "        (current_date - relativedelta(months=scenario.active_rigs_min_cutoff_months))\n",
    "        .replace(day=1)\n",
    "        .date()\n",
    "    )\n",
    "    params[\"buffer_days_for_rig_movement\"] = buffer_days_for_rig_movement\n",
    "    params[\"cutoff_date_for_new_wells\"] = (\n",
    "        (current_date - relativedelta(months=scenario.active_rigs_min_cutoff_months))\n",
    "        .replace(day=1)\n",
    "        .date()\n",
    "    )\n",
    "    params['current_date'] = current_date.date() \n",
    "    \n",
    "    params['desired_minimum_firstproddate_for_completed_drilled_wells'] =  (\n",
    "        (current_date - relativedelta(months=12 * scenario.cycle_times_min_cutoff_years))\n",
    "        .replace(day=1)\n",
    "        .date()\n",
    "    )\n",
    "    params[\"scenario_id\"] = scenario.scenario_id\n",
    "    # params[\"scenario_id\"] = 'testing'\n",
    "    dbutils.notebook.run(\"./04-PRODUCTION-ESTIMATION-MODEL\", 0, params)"
   ]
  },
  {
   "cell_type": "code",
   "execution_count": 0,
   "metadata": {
    "application/vnd.databricks.v1+cell": {
     "cellMetadata": {
      "byteLimit": 2048000,
      "rowLimit": 10000
     },
     "inputWidgets": {},
     "nuid": "e2cb34c0-73df-4e6a-9eeb-5e33883bbd51",
     "showTitle": false,
     "title": ""
    }
   },
   "outputs": [],
   "source": []
  }
 ],
 "metadata": {
  "application/vnd.databricks.v1+notebook": {
   "dashboards": [],
   "environmentMetadata": null,
   "language": "python",
   "notebookMetadata": {
    "mostRecentlyExecutedCommandWithImplicitDF": {
     "commandId": 3463741269674992,
     "dataframes": [
      "_sqldf"
     ]
    },
    "pythonIndentUnit": 4
   },
   "notebookName": "00-DRILL-OUT-MODEL-MASTER",
   "widgets": {
    "scenario": {
     "currentValue": "default rigs",
     "nuid": "bb36b099-7c3a-46b9-9562-8217e8bca8bc",
     "typedWidgetInfo": null,
     "widgetInfo": {
      "widgetType": "text",
      "defaultValue": "all",
      "label": null,
      "name": "scenario",
      "options": {
       "widgetType": "text",
       "autoCreated": null,
       "validationRegex": null
      }
     }
    }
   }
  }
 },
 "nbformat": 4,
 "nbformat_minor": 0
}
