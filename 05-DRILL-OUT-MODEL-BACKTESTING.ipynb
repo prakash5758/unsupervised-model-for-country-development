{
 "cells": [
  {
   "cell_type": "markdown",
   "metadata": {
    "application/vnd.databricks.v1+cell": {
     "cellMetadata": {},
     "inputWidgets": {},
     "nuid": "0bf5035d-03a9-46e2-a406-65a65773c950",
     "showTitle": false,
     "title": ""
    }
   },
   "source": [
    "# Imports"
   ]
  },
  {
   "cell_type": "code",
   "execution_count": 0,
   "metadata": {
    "application/vnd.databricks.v1+cell": {
     "cellMetadata": {},
     "inputWidgets": {},
     "nuid": "edd90d18-f84f-4e2a-ae23-e24a87fb4b1d",
     "showTitle": false,
     "title": ""
    }
   },
   "outputs": [],
   "source": [
    "from datetime import datetime, timedelta\n",
    "from dateutil.relativedelta import relativedelta"
   ]
  },
  {
   "cell_type": "markdown",
   "metadata": {
    "application/vnd.databricks.v1+cell": {
     "cellMetadata": {},
     "inputWidgets": {},
     "nuid": "89a88ab0-42d7-47f2-9d69-927bc381b791",
     "showTitle": false,
     "title": ""
    }
   },
   "source": [
    "# Widgets and Parameters"
   ]
  },
  {
   "cell_type": "code",
   "execution_count": 0,
   "metadata": {
    "application/vnd.databricks.v1+cell": {
     "cellMetadata": {},
     "inputWidgets": {},
     "nuid": "82a2a0a6-5583-47cc-8890-04cb03bba66c",
     "showTitle": false,
     "title": ""
    }
   },
   "outputs": [],
   "source": [
    "dbutils.widgets.text(\"scenario\", \"all\")\n",
    "scenario_run = dbutils.widgets.get(\"scenario\").lower()"
   ]
  },
  {
   "cell_type": "code",
   "execution_count": 0,
   "metadata": {
    "application/vnd.databricks.v1+cell": {
     "cellMetadata": {},
     "inputWidgets": {},
     "nuid": "4780a95e-041e-485b-8dde-291d20ddc64f",
     "showTitle": false,
     "title": ""
    }
   },
   "outputs": [],
   "source": [
    "# condition preparation\n",
    "if scenario_run == \"all\":\n",
    "    scenario_condition = \"and scenario_name = 'default'\"\n",
    "else:\n",
    "    scenario_condition = \"and scenario_name = '{scenario_run}'\""
   ]
  },
  {
   "cell_type": "code",
   "execution_count": 0,
   "metadata": {
    "application/vnd.databricks.v1+cell": {
     "cellMetadata": {},
     "inputWidgets": {},
     "nuid": "ce3e561a-bd46-4f77-9ed1-0d897edcc916",
     "showTitle": false,
     "title": ""
    }
   },
   "outputs": [],
   "source": [
    "scenarios= spark.sql(\n",
    "    f\"\"\"\n",
    "          select * \n",
    "          from raw.drillout_model_scenarios \n",
    "          where 1=1 \n",
    "          {scenario_condition}\n",
    "          \"\"\"\n",
    ").collect()"
   ]
  },
  {
   "cell_type": "code",
   "execution_count": 0,
   "metadata": {
    "application/vnd.databricks.v1+cell": {
     "cellMetadata": {},
     "inputWidgets": {},
     "nuid": "f1479f40-4b4a-4984-8355-3a65b8664401",
     "showTitle": false,
     "title": ""
    }
   },
   "outputs": [],
   "source": [
    "# Constants declaration\n",
    "cutoff_perc_for_misc_operators = 5\n",
    "buffer_days_for_rig_movement = 10\n",
    "current_date = datetime.strptime(\"2022-01-01\", \"%Y-%m-%d\")"
   ]
  },
  {
   "cell_type": "code",
   "execution_count": 0,
   "metadata": {
    "application/vnd.databricks.v1+cell": {
     "cellMetadata": {},
     "inputWidgets": {},
     "nuid": "c1f94b23-1b1e-4363-9ae2-244d6c06ac86",
     "showTitle": false,
     "title": ""
    }
   },
   "outputs": [],
   "source": [
    "# current_date = datetime.strptime(current_date, \"%Y-%m-%d\").date()"
   ]
  },
  {
   "cell_type": "code",
   "execution_count": 0,
   "metadata": {
    "application/vnd.databricks.v1+cell": {
     "cellMetadata": {},
     "inputWidgets": {},
     "nuid": "663b8a93-1676-490e-826c-c6d43c6c2c5b",
     "showTitle": false,
     "title": ""
    }
   },
   "outputs": [],
   "source": [
    "scenario_id = 'testing2'"
   ]
  },
  {
   "cell_type": "markdown",
   "metadata": {
    "application/vnd.databricks.v1+cell": {
     "cellMetadata": {},
     "inputWidgets": {},
     "nuid": "db1e1a66-a04a-4c80-840a-981805b1364b",
     "showTitle": false,
     "title": ""
    }
   },
   "source": [
    "# Cycle Time Model"
   ]
  },
  {
   "cell_type": "code",
   "execution_count": 0,
   "metadata": {
    "application/vnd.databricks.v1+cell": {
     "cellMetadata": {},
     "inputWidgets": {},
     "nuid": "85691728-5ef3-4e0e-bb0d-95e15eb6cae8",
     "showTitle": false,
     "title": ""
    }
   },
   "outputs": [],
   "source": [
    "for scenario in scenarios:\n",
    "    params = {}\n",
    "    params[\"basin_of_interest\"] = scenario.basin\n",
    "    params[\"cutoff_date_for_training_data\"] = (\n",
    "        (\n",
    "            current_date\n",
    "            - relativedelta(months=12 * scenario.cycle_times_min_cutoff_years)\n",
    "        )\n",
    "        .replace(day=1)\n",
    "        .date()\n",
    "    )\n",
    "    params[\"flow_unit_of_interest\"] = scenario.flow_unit\n",
    "    params[\"scenario_id\"] = 'testing'\n",
    "    # params[\"scenario_id\"] = scenario.scenario_id\n",
    "    params['current_date'] = current_date.date()\n",
    "    dbutils.notebook.run(\"./01-CYCLE-TIME-MODEL\", 0, params)"
   ]
  },
  {
   "cell_type": "markdown",
   "metadata": {
    "application/vnd.databricks.v1+cell": {
     "cellMetadata": {},
     "inputWidgets": {},
     "nuid": "bc62fdb0-5a99-4853-bfcc-f99d818d0d74",
     "showTitle": false,
     "title": ""
    }
   },
   "source": [
    "# Rigs Model"
   ]
  },
  {
   "cell_type": "code",
   "execution_count": 0,
   "metadata": {
    "application/vnd.databricks.v1+cell": {
     "cellMetadata": {},
     "inputWidgets": {},
     "nuid": "b3e44b44-902a-46f5-8c8b-aaf85c850ba9",
     "showTitle": false,
     "title": ""
    }
   },
   "outputs": [],
   "source": [
    "for scenario in scenarios:\n",
    "    params = {}\n",
    "    params[\"user_input_for_num_of_rigs\"] = 57\n",
    "    params[\"basin_of_interest\"] = scenario.basin\n",
    "    params[\"desired_active_rig_date\"] = (\n",
    "        (current_date - relativedelta(months=scenario.active_rigs_min_cutoff_months))\n",
    "        .replace(day=1)\n",
    "        .date()\n",
    "    )\n",
    "    params[\"cutoff_date_to_train_rig_model\"] = (\n",
    "        (current_date - relativedelta(months=12 * scenario.rigs_min_cutoff_years))\n",
    "        .replace(day=1)\n",
    "        .date()\n",
    "    )\n",
    "    params[\"cutoff_perc_for_misc_operators\"] = cutoff_perc_for_misc_operators\n",
    "    # params[\"scenario_id\"] = scenario.scenario_id\n",
    "    params[\"scenario_id\"] = 'testing'\n",
    "    params['current_date'] = current_date.date()\n",
    "dbutils.notebook.run(\"./02-RIG-MODEL\", 0, arguments=params)"
   ]
  },
  {
   "cell_type": "markdown",
   "metadata": {
    "application/vnd.databricks.v1+cell": {
     "cellMetadata": {},
     "inputWidgets": {},
     "nuid": "328c700b-174f-47a6-bac9-84b0e2463bdf",
     "showTitle": false,
     "title": ""
    }
   },
   "source": [
    "# Drilling Scheduling Model"
   ]
  },
  {
   "cell_type": "code",
   "execution_count": 0,
   "metadata": {
    "application/vnd.databricks.v1+cell": {
     "cellMetadata": {},
     "inputWidgets": {},
     "nuid": "364bf4db-f4a0-424b-b0d8-9f794a154a6e",
     "showTitle": false,
     "title": ""
    }
   },
   "outputs": [],
   "source": [
    "for scenario in scenarios:\n",
    "    params = {}\n",
    "    params[\"flow_unit_of_interest\"] = scenario.flow_unit\n",
    "    params[\"inventory_drilling_end_time\"] = (\n",
    "        (current_date + relativedelta(months=12 * int(scenario.forecast_years)))\n",
    "        .replace(day=1)\n",
    "        .date()\n",
    "    )\n",
    "    params[\"buffer_days_for_rig_movement\"] = buffer_days_for_rig_movement\n",
    "    # params[\"scenario_id\"] = scenario.scenario_id\n",
    "    params[\"scenario_id\"] = 'testing'\n",
    "    dbutils.notebook.run(\"./03-DRILLING-SCHEDULING-MODEL\", 0, params)"
   ]
  },
  {
   "cell_type": "markdown",
   "metadata": {
    "application/vnd.databricks.v1+cell": {
     "cellMetadata": {},
     "inputWidgets": {},
     "nuid": "8c3fd7e0-15d9-428b-83dd-c43d1d4ad3f3",
     "showTitle": false,
     "title": ""
    }
   },
   "source": [
    "# Production Estimation Model"
   ]
  },
  {
   "cell_type": "code",
   "execution_count": 0,
   "metadata": {
    "application/vnd.databricks.v1+cell": {
     "cellMetadata": {},
     "inputWidgets": {},
     "nuid": "30248b27-198d-40f6-a3f8-fac06d31bc23",
     "showTitle": false,
     "title": ""
    }
   },
   "outputs": [],
   "source": [
    "for scenario in scenarios:\n",
    "    params = {}\n",
    "    params[\"basin_of_interest\"] = scenario.basin\n",
    "    params[\"desired_minimum_date_for_producing_wells\"] = (\n",
    "        (\n",
    "            current_date\n",
    "            - relativedelta(months=12 * scenario.cycle_times_min_cutoff_years)\n",
    "        )\n",
    "        .replace(day=1)\n",
    "        .date()\n",
    "    )\n",
    "    params[\"desired_maximum_date_for_producing_wells\"] = (\n",
    "        (current_date + relativedelta(months=12 * int(scenario.forecast_years)))\n",
    "        .replace(day=1)\n",
    "        .date()\n",
    "    ) \n",
    "    params[\"desired_wip_wells_date\"] = (\n",
    "        (current_date - relativedelta(months=scenario.active_rigs_min_cutoff_months))\n",
    "        .replace(day=1)\n",
    "        .date()\n",
    "    )\n",
    "    params[\"cutoff_first_prod_date_for_wip_wells\"] = (\n",
    "        (current_date - relativedelta(months=scenario.active_rigs_min_cutoff_months))\n",
    "        .replace(day=1)\n",
    "        .date()\n",
    "    )\n",
    "    params[\"desired_first_prod_date_for_wip_wells\"] = (\n",
    "        (current_date - relativedelta(months=scenario.active_rigs_min_cutoff_months))\n",
    "        .replace(day=1)\n",
    "        .date()\n",
    "    )\n",
    "    params[\"buffer_days_for_rig_movement\"] = buffer_days_for_rig_movement\n",
    "    params[\"cutoff_date_for_new_wells\"] = (\n",
    "        (current_date - relativedelta(months=scenario.active_rigs_min_cutoff_months))\n",
    "        .replace(day=1)\n",
    "        .date()\n",
    "        .strftime(\"%Y-%m\")\n",
    "    )\n",
    "    params['current_date'] = current_date.date()\n",
    "    # params[\"scenario_id\"] = scenario.scenario_id\n",
    "    params[\"scenario_id\"] = 'testing'\n",
    "    dbutils.notebook.run(\"./04-PRODUCTION-ESTIMATION-MODEL\", 0, params)"
   ]
  },
  {
   "cell_type": "markdown",
   "metadata": {
    "application/vnd.databricks.v1+cell": {
     "cellMetadata": {},
     "inputWidgets": {},
     "nuid": "ef163a29-5d5c-485a-9c8f-5f130f69ab2e",
     "showTitle": false,
     "title": ""
    }
   },
   "source": [
    "# Downloading Final Data"
   ]
  },
  {
   "cell_type": "code",
   "execution_count": 0,
   "metadata": {
    "application/vnd.databricks.v1+cell": {
     "cellMetadata": {},
     "inputWidgets": {},
     "nuid": "abd5e79e-cbe7-4eac-bd8c-8c6b6a263f84",
     "showTitle": false,
     "title": ""
    }
   },
   "outputs": [],
   "source": [
    "def Stacked_plot_production_data_for_all_wells(start_date, end_date, dataframe, type_curve=None, operator=None, reservoir=None):  \n",
    "    dataframe = dataframe[(dataframe['production_date'] >= start_date) & (dataframe['production_date'] <= end_date)] \n",
    "    \n",
    "    if type_curve:\n",
    "        dataframe = dataframe[dataframe.typeCurveArea==type_curve]\n",
    "\n",
    "    if operator:\n",
    "        dataframe = dataframe[dataframe.OperatorGold==operator]\n",
    "\n",
    "    if reservoir:\n",
    "        dataframe = dataframe[dataframe.ReservoirGoldConsolidated==reservoir]\n",
    "    \n",
    "\n",
    "    \n",
    "    new_wells_production = dataframe[dataframe.WellStatus == 'new_wells'].groupby('production_month_year', as_index=False)[\n",
    "        ['Oil_MBO', 'Gas_BCFD', 'Water_MBO']].sum()\n",
    "    wip_wells_production = dataframe[dataframe.WellStatus == 'wip_wells'].groupby('production_month_year', as_index=False)[\n",
    "        ['Oil_MBO', 'Gas_BCFD', 'Water_MBO']].sum()\n",
    "    inventory_wells_production = dataframe[dataframe.WellStatus == 'inventory_wells'].groupby('production_month_year', as_index=False)[\n",
    "        ['Oil_MBO', 'Gas_BCFD', 'Water_MBO']].sum()\n",
    "    producing_wells_production = dataframe[dataframe.WellStatus == 'producing_wells'].groupby('production_month_year', as_index=False)[\n",
    "        ['Oil_MBO', 'Gas_BCFD', 'Water_MBO']].sum()\n",
    "    \n",
    "    all_dates = pd.concat([new_wells_production['production_month_year'], wip_wells_production['production_month_year'],\n",
    "                          inventory_wells_production['production_month_year'], producing_wells_production['production_month_year']]).unique() \n",
    "\n",
    "    unique_dates_df = pd.DataFrame({'production_month_year': all_dates})\n",
    "    merged_df = unique_dates_df\n",
    "    well_types = [\"New Wells\", \"Wip Wells\", \"Inventory Wells\", \"PDP Wells\"]\n",
    "    \n",
    "    for i, df in enumerate([new_wells_production, wip_wells_production, inventory_wells_production, producing_wells_production]):\n",
    "        suffix = f'_{well_types[i]}'\n",
    "        merged_df = merged_df.merge(df, on='production_month_year', how='outer', suffixes=('', suffix))\n",
    "    \n",
    "    merged_df.rename({'Oil_MBO': 'Oil_MBO_New Wells', 'Gas_BCFD': 'Gas_BCFD_New Wells',\n",
    "                      'Water_MBO': 'Water_MBO_New Wells'}, inplace=True, axis=1)\n",
    "    \n",
    "    merged_df = merged_df.fillna(0)\n",
    "    merged_df['production_month_year'] = merged_df['production_month_year'].astype(str)\n",
    "    merged_df = merged_df[merged_df['production_month_year']<\"2040-01\"]\n",
    "    fig_gas = px.area(merged_df, x='production_month_year', \n",
    "                  y=['Gas_BCFD_PDP Wells', 'Gas_BCFD_New Wells', 'Gas_BCFD_Wip Wells', 'Gas_BCFD_Inventory Wells'], \n",
    "                  title='Stacked Plot of Gas for all wells status',\n",
    "                  labels={'value': 'amount of gas (BCFD)'},\n",
    "                  template='plotly_dark',  \n",
    "                  color_discrete_map={'Gas_BCFD_PDP Wells': '#FFA500', 'Gas_BCFD_New Wells': '#33CC33', \n",
    "                                      'Gas_BCFD_Wip Wells': '#0000FF', 'Gas_BCFD_Inventory Wells': '#FF00FF'},\n",
    "                  )\n",
    "    fig_gas.update_layout(xaxis_title='Time')\n",
    "    \n",
    "    fig_oil = px.area(merged_df, x='production_month_year', \n",
    "                  y=['Oil_MBO_PDP Wells', 'Oil_MBO_New Wells', 'Oil_MBO_Wip Wells', 'Oil_MBO_Inventory Wells'], \n",
    "                  title='Stacked Plot of Oil for all wells status',\n",
    "                  labels={'value': 'amount of oil (MBO)'},\n",
    "                  template='plotly_dark',  \n",
    "                  color_discrete_map={'Oil_MBO_PDP Wells': '#FFA500', 'Oil_MBO_New Wells': '#33CC33', \n",
    "                                      'Oil_MBO_Wip Wells': '#0000FF', 'Oil_MBO_Inventory Wells': '#FF00FF'},\n",
    "                  )\n",
    "    \n",
    "    fig_oil.update_layout(xaxis_title='Time')\n",
    "    \n",
    "    fig_water = px.area(merged_df, x='production_month_year', \n",
    "                  y=['Water_MBO_PDP Wells', 'Water_MBO_New Wells', 'Water_MBO_Wip Wells', 'Water_MBO_Inventory Wells'], \n",
    "                  title='Stacked Plot of Water for all wells status',\n",
    "                  labels={'value': 'amount of water (MBO)'},\n",
    "                  template='plotly_dark',  \n",
    "                  color_discrete_map={'Water_MBO_PDP Wells': '#FFA500', 'Water_MBO_New Wells': '#33CC33', \n",
    "                                      'Water_MBO_Wip Wells': '#0000FF', 'Water_MBO_Inventory Wells': '#FF00FF'},\n",
    "                  )\n",
    "    fig_water.update_layout(xaxis_title='Time')\n",
    "\n",
    "    fig_gas.show()\n",
    "    # fig_oil.show()\n",
    "    # fig_water.show()\n",
    "\n",
    "\n"
   ]
  },
  {
   "cell_type": "code",
   "execution_count": 0,
   "metadata": {
    "application/vnd.databricks.v1+cell": {
     "cellMetadata": {},
     "inputWidgets": {},
     "nuid": "50d56f3f-809a-4dba-9582-8382a9826116",
     "showTitle": false,
     "title": ""
    }
   },
   "outputs": [],
   "source": [
    "def Stacked_plot_wells_coming_online_for_all_wells(start_date, end_date, dataframe, type_curve=None, operator=None, reservoir=None):  \n",
    "    dataframe = dataframe[(dataframe['production_date'] >= start_date) & (dataframe['production_date'] <= end_date)] \n",
    "    \n",
    "    if type_curve:\n",
    "        dataframe = dataframe[dataframe.typeCurveArea==type_curve]\n",
    "\n",
    "    if operator:\n",
    "        dataframe = dataframe[dataframe.OperatorGold==operator]\n",
    "\n",
    "    if reservoir:\n",
    "        dataframe = dataframe[dataframe.ReservoirGoldConsolidated==reservoir]\n",
    "    \n",
    "\n",
    "    \n",
    "    new_wells_production = dataframe[(dataframe.WellStatus == 'new_wells') & (dataframe.producing_month==1)].groupby('production_month_year', as_index=False)[\"entityID\"].nunique()\n",
    "\n",
    "    wip_wells_production = dataframe[(dataframe.WellStatus == 'wip_wells')  & (dataframe.producing_month==1)].groupby('production_month_year', as_index=False)[\"entityID\"].nunique()\n",
    "\n",
    "    inventory_wells_production = dataframe[(dataframe.WellStatus == 'inventory_wells') & (dataframe.producing_month==1)].groupby('production_month_year', as_index=False)[\"entityID\"].nunique()\n",
    "\n",
    "    producing_wells_production = dataframe[(dataframe.WellStatus == 'producing_wells') & (dataframe.producing_month==1)].groupby('production_month_year', as_index=False)[\"entityID\"].nunique()\n",
    "    \n",
    "    all_dates = pd.concat([new_wells_production['production_month_year'], wip_wells_production['production_month_year'],\n",
    "                          inventory_wells_production['production_month_year'], producing_wells_production['production_month_year']]).unique() \n",
    "\n",
    "    unique_dates_df = pd.DataFrame({'production_month_year': all_dates})\n",
    "    merged_df = unique_dates_df\n",
    "    well_types = [\"New Wells\", \"Wip Wells\", \"Inventory Wells\", \"PDP Wells\"]\n",
    "    \n",
    "    for i, df in enumerate([new_wells_production, wip_wells_production, inventory_wells_production, producing_wells_production]):\n",
    "        suffix = f'_{well_types[i]}'\n",
    "        merged_df = merged_df.merge(df, on='production_month_year', how='outer', suffixes=('', suffix))\n",
    "    \n",
    "    merged_df.rename({'entityID': 'entityID_New Wells'}, inplace=True, axis=1)\n",
    "    \n",
    "    merged_df = merged_df.fillna(0)\n",
    "    merged_df['production_month_year'] = merged_df['production_month_year'].astype(str)\n",
    "    \n",
    "    fig = px.area(merged_df, x='production_month_year', \n",
    "                  y=['entityID_PDP Wells', 'entityID_New Wells', 'entityID_Wip Wells', 'entityID_Inventory Wells'], \n",
    "                  title='Stacked Plot for wells coming online for all wells status',\n",
    "                  labels={'value': 'number of wells'},\n",
    "                  template='plotly_dark',  \n",
    "                  color_discrete_map={'entityID_PDP Wells': '#FFA500', 'entityID_New Wells': '#33CC33', \n",
    "                                      'entityID_Wip Wells': '#0000FF', 'entityID_Inventory Wells': '#FF00FF'},\n",
    "                  )\n",
    "    fig.update_layout(xaxis_title='Time')\n",
    "    fig.show()\n"
   ]
  },
  {
   "cell_type": "code",
   "execution_count": 0,
   "metadata": {
    "application/vnd.databricks.v1+cell": {
     "cellMetadata": {},
     "inputWidgets": {},
     "nuid": "16e8e229-3ade-4a19-bfd9-0d7862c8ab71",
     "showTitle": false,
     "title": ""
    }
   },
   "outputs": [],
   "source": [
    "import pandas as pd\n",
    "import plotly.express as px\n",
    "Stacked_plot_production_data_for_all_wells('2019-01-01', '2040-12-31', final_df, reservoir=\"HAYNESVILLE\")"
   ]
  },
  {
   "cell_type": "code",
   "execution_count": 0,
   "metadata": {
    "application/vnd.databricks.v1+cell": {
     "cellMetadata": {},
     "inputWidgets": {},
     "nuid": "ad91a9a4-7d9b-4689-b443-8b5b2ab43fd5",
     "showTitle": false,
     "title": ""
    }
   },
   "outputs": [],
   "source": [
    "Stacked_plot_wells_coming_online_for_all_wells('2019-01-01', '2040-12-31', final_df, reservoir=\"HAYNESVILLE\")"
   ]
  },
  {
   "cell_type": "code",
   "execution_count": 0,
   "metadata": {
    "application/vnd.databricks.v1+cell": {
     "cellMetadata": {
      "byteLimit": 2048000,
      "implicitDf": true,
      "rowLimit": 10000
     },
     "inputWidgets": {},
     "nuid": "6927ace0-bd19-47d1-ad29-447acab68f71",
     "showTitle": false,
     "title": ""
    }
   },
   "outputs": [
    {
     "output_type": "display_data",
     "data": {
      "text/html": [
       "<style scoped>\n",
       "  .table-result-container {\n",
       "    max-height: 300px;\n",
       "    overflow: auto;\n",
       "  }\n",
       "  table, th, td {\n",
       "    border: 1px solid black;\n",
       "    border-collapse: collapse;\n",
       "  }\n",
       "  th, td {\n",
       "    padding: 5px;\n",
       "  }\n",
       "  th {\n",
       "    text-align: left;\n",
       "  }\n",
       "</style><div class='table-result-container'><table class='table-result'><thead style='background-color: white'><tr><th>scenario_id</th><th>scenario_name</th><th>basin</th><th>flow_unit</th><th>number_of_rigs</th><th>forecast_years</th><th>cycle_times_min_cutoff_years</th><th>rigs_min_cutoff_years</th><th>active_rigs_min_cutoff_months</th></tr></thead><tbody><tr><td>2</td><td>testing</td><td>GULF COAST EAST</td><td>HAYNESVILLE</td><td>35</td><td>15</td><td>5</td><td>2</td><td>6</td></tr><tr><td>1</td><td>default</td><td>GULF COAST EAST</td><td>HAYNESVILLE</td><td>30</td><td>15</td><td>5</td><td>2</td><td>6</td></tr></tbody></table></div>"
      ]
     },
     "metadata": {
      "application/vnd.databricks.v1+output": {
       "addedWidgets": {},
       "aggData": [],
       "aggError": "",
       "aggOverflow": false,
       "aggSchema": [],
       "aggSeriesLimitReached": false,
       "aggType": "",
       "arguments": {},
       "columnCustomDisplayInfos": {},
       "data": [
        [
         2,
         "testing",
         "GULF COAST EAST",
         "HAYNESVILLE",
         35,
         15,
         5,
         2,
         6
        ],
        [
         1,
         "default",
         "GULF COAST EAST",
         "HAYNESVILLE",
         30,
         15,
         5,
         2,
         6
        ]
       ],
       "datasetInfos": [],
       "dbfsResultPath": null,
       "isJsonSchema": true,
       "metadata": {
        "dataframeName": "_sqldf",
        "executionCount": 3
       },
       "overflow": false,
       "plotOptions": {
        "customPlotOptions": {},
        "displayType": "table",
        "pivotAggregation": null,
        "pivotColumns": null,
        "xColumns": null,
        "yColumns": null
       },
       "removedWidgets": [],
       "schema": [
        {
         "metadata": "{}",
         "name": "scenario_id",
         "type": "\"long\""
        },
        {
         "metadata": "{}",
         "name": "scenario_name",
         "type": "\"string\""
        },
        {
         "metadata": "{}",
         "name": "basin",
         "type": "\"string\""
        },
        {
         "metadata": "{}",
         "name": "flow_unit",
         "type": "\"string\""
        },
        {
         "metadata": "{}",
         "name": "number_of_rigs",
         "type": "\"integer\""
        },
        {
         "metadata": "{}",
         "name": "forecast_years",
         "type": "\"integer\""
        },
        {
         "metadata": "{}",
         "name": "cycle_times_min_cutoff_years",
         "type": "\"integer\""
        },
        {
         "metadata": "{}",
         "name": "rigs_min_cutoff_years",
         "type": "\"integer\""
        },
        {
         "metadata": "{}",
         "name": "active_rigs_min_cutoff_months",
         "type": "\"integer\""
        }
       ],
       "type": "table"
      }
     },
     "output_type": "display_data"
    }
   ],
   "source": [
    "%sql\n",
    "select * from produced.drillout_model_scenarios"
   ]
  },
  {
   "cell_type": "code",
   "execution_count": 0,
   "metadata": {
    "application/vnd.databricks.v1+cell": {
     "cellMetadata": {
      "byteLimit": 2048000,
      "rowLimit": 10000
     },
     "inputWidgets": {},
     "nuid": "b255da5e-7a6e-40ac-820c-4ff1691bebe5",
     "showTitle": false,
     "title": ""
    }
   },
   "outputs": [],
   "source": [
    "import pandas as pd\n",
    "import plotly.express as px\n",
    "\n",
    "\n",
    "final_df = spark.sql(\"select * from produced.production_estimation_model where scenario_id = '2'\").toPandas()  # user input number of rigs = 35\n",
    "\n",
    "# final_df = spark.sql(\"select * from produced.production_estimation_model where scenario_id = '1'\").toPandas()  # user input number of rigs = 30\n"
   ]
  },
  {
   "cell_type": "code",
   "execution_count": 0,
   "metadata": {
    "application/vnd.databricks.v1+cell": {
     "cellMetadata": {
      "byteLimit": 2048000,
      "rowLimit": 10000
     },
     "inputWidgets": {},
     "nuid": "621acfb7-f6c0-4917-bc82-11a39358c32a",
     "showTitle": false,
     "title": ""
    }
   },
   "outputs": [
    {
     "output_type": "stream",
     "name": "stdout",
     "output_type": "stream",
     "text": [
      "inventory_wells 3741\nproducing_wells 5318\nwip_wells 57\ndrilled_completed 333\nnew_wells 7\n"
     ]
    }
   ],
   "source": [
    "for well_type in final_df.forecastType.unique():\n",
    "    print(well_type, final_df[final_df.forecastType==well_type]['entityID'].nunique())"
   ]
  },
  {
   "cell_type": "code",
   "execution_count": 0,
   "metadata": {
    "application/vnd.databricks.v1+cell": {
     "cellMetadata": {
      "byteLimit": 2048000,
      "rowLimit": 10000
     },
     "inputWidgets": {},
     "nuid": "93c62e4e-d1dd-4791-ade6-3283969405b6",
     "showTitle": false,
     "title": ""
    }
   },
   "outputs": [],
   "source": [
    "def Stacked_plot_production_data_for_all_wells(start_date, end_date, dataframe, type_curve=None, operator=None, reservoir=None): \n",
    "\n",
    "    dataframe = dataframe[(dataframe['production_date'] >= start_date) & (dataframe['production_date'] <= end_date)] \n",
    "    \n",
    "    if type_curve:\n",
    "        dataframe = dataframe[dataframe.typeCurveArea==type_curve]\n",
    "\n",
    "    if operator:\n",
    "        dataframe = dataframe[dataframe.OperatorGold==operator]\n",
    "\n",
    "    if reservoir:\n",
    "        dataframe = dataframe[dataframe.ReservoirGoldConsolidated==reservoir]\n",
    "    \n",
    "\n",
    "    new_wells_production = dataframe[dataframe.forecastType == 'new_wells'].groupby('production_month_year', as_index=False)[\n",
    "        ['Oil_MBO', 'Gas_BCFD', 'Water_MBO']].sum()\n",
    "    wip_wells_production = dataframe[dataframe.forecastType == 'wip_wells'].groupby('production_month_year', as_index=False)[\n",
    "        ['Oil_MBO', 'Gas_BCFD', 'Water_MBO']].sum()\n",
    "    inventory_wells_production = dataframe[dataframe.forecastType == 'inventory_wells'].groupby('production_month_year', as_index=False)[\n",
    "        ['Oil_MBO', 'Gas_BCFD', 'Water_MBO']].sum()\n",
    "    producing_wells_production = dataframe[dataframe.forecastType == 'producing_wells'].groupby('production_month_year', as_index=False)[\n",
    "        ['Oil_MBO', 'Gas_BCFD', 'Water_MBO']].sum()\n",
    "    drilled_completed_wells = dataframe[dataframe.forecastType == 'drilled_completed'].groupby('production_month_year', as_index=False)[\n",
    "        ['Oil_MBO', 'Gas_BCFD', 'Water_MBO']].sum()\n",
    "\n",
    "    all_dates = pd.concat([new_wells_production['production_month_year'], \n",
    "                           wip_wells_production['production_month_year'],\n",
    "                          inventory_wells_production['production_month_year'], producing_wells_production['production_month_year'],\n",
    "                          drilled_completed_wells['production_month_year'],\n",
    "                          ]).unique() \n",
    "\n",
    "\n",
    "    unique_dates_df = pd.DataFrame({'production_month_year': all_dates})\n",
    "    merged_df = unique_dates_df\n",
    "    well_types = [\"New Wells\", \"Wip Wells\", \"Inventory Wells\", \"PDP Wells\", \"Drilled Completed Wells\"]\n",
    "    \n",
    "    for i, df in enumerate([new_wells_production, wip_wells_production, inventory_wells_production, producing_wells_production, drilled_completed_wells]):\n",
    "        suffix = f'_{well_types[i]}'\n",
    "        merged_df = merged_df.merge(df, on='production_month_year', how='outer', suffixes=('', suffix))\n",
    "    \n",
    "    merged_df.rename({'Oil_MBO': 'Oil_MBO_New Wells', 'Gas_BCFD': 'Gas_BCFD_New Wells',\n",
    "                      'Water_MBO': 'Water_MBO_New Wells'}, inplace=True, axis=1)\n",
    "    \n",
    "    merged_df = merged_df.fillna(0)\n",
    "    merged_df['production_month_year'] = merged_df['production_month_year'].astype(str)\n",
    "    merged_df = merged_df[merged_df['production_month_year']<\"2040-01\"]\n",
    "    fig_gas = px.area(merged_df, x='production_month_year', \n",
    "                  y=['Gas_BCFD_PDP Wells', 'Gas_BCFD_New Wells', 'Gas_BCFD_Wip Wells', 'Gas_BCFD_Inventory Wells', \"Gas_BCFD_Drilled Completed Wells\"], \n",
    "                  title='Stacked Plot of Gas for all wells status',\n",
    "                  labels={'value': 'amount of gas (BCFD)'},\n",
    "                  template='plotly_dark',  \n",
    "                  color_discrete_map={'Gas_BCFD_PDP Wells': '#FFA500', \n",
    "                                      'Gas_BCFD_New Wells': '#33CC33', \n",
    "                                      'Gas_BCFD_Wip Wells': '#0000FF', \n",
    "                                      'Gas_BCFD_Inventory Wells': '#FF00FF',\n",
    "                                      'Gas_BCFD_Drilled Completed Wells': '#FF0000'},\n",
    "                  )\n",
    "    fig_gas.update_layout(xaxis_title='Time')\n",
    "\n",
    "    fig_gas.show()\n",
    "\n",
    "\n",
    "\n"
   ]
  },
  {
   "cell_type": "code",
   "execution_count": 0,
   "metadata": {
    "application/vnd.databricks.v1+cell": {
     "cellMetadata": {
      "byteLimit": 2048000,
      "rowLimit": 10000
     },
     "inputWidgets": {},
     "nuid": "2d1ec0f4-aef0-450e-aaba-08187c393940",
     "showTitle": false,
     "title": ""
    }
   },
   "outputs": [],
   "source": [
    "\n",
    "def Stacked_plot_wells_coming_online_for_all_wells(start_date, end_date, dataframe, type_curve=None, operator=None, reservoir=None):  \n",
    "    dataframe = dataframe[(dataframe['production_date'] >= start_date) & (dataframe['production_date'] <= end_date)] \n",
    "    \n",
    "    if type_curve:\n",
    "        dataframe = dataframe[dataframe.typeCurveArea==type_curve]\n",
    "\n",
    "    if operator:\n",
    "        dataframe = dataframe[dataframe.OperatorGold==operator]\n",
    "\n",
    "    if reservoir:\n",
    "        dataframe = dataframe[dataframe.ReservoirGoldConsolidated==reservoir]\n",
    "    \n",
    "\n",
    "    \n",
    "    new_wells_production = dataframe[(dataframe.forecastType == 'new_wells') & (dataframe.producing_month==1)].groupby('production_month_year', as_index=False)[\"entityID\"].nunique()\n",
    "\n",
    "    wip_wells_production = dataframe[(dataframe.forecastType == 'wip_wells')  & (dataframe.producing_month==1)].groupby('production_month_year', as_index=False)[\"entityID\"].nunique()\n",
    "\n",
    "    inventory_wells_production = dataframe[(dataframe.forecastType == 'inventory_wells') & (dataframe.producing_month==1)].groupby('production_month_year', as_index=False)[\"entityID\"].nunique()\n",
    "\n",
    "    producing_wells_production = dataframe[(dataframe.forecastType == 'producing_wells') & (dataframe.producing_month==1)].groupby('production_month_year', as_index=False)[\"entityID\"].nunique()\n",
    "\n",
    "    drilled_comp_wells = dataframe[(dataframe.forecastType == 'drilled_completed') & (dataframe.producing_month==1)].groupby('production_month_year', as_index=False)[\"entityID\"].nunique()\n",
    "    \n",
    "    all_dates = pd.concat([new_wells_production['production_month_year'],\n",
    "                            wip_wells_production['production_month_year'],\n",
    "                          inventory_wells_production['production_month_year'], producing_wells_production['production_month_year'],\n",
    "                          drilled_comp_wells['production_month_year'],\n",
    "                          ]).unique() \n",
    "    \n",
    "\n",
    "    unique_dates_df = pd.DataFrame({'production_month_year': all_dates})\n",
    "    merged_df = unique_dates_df\n",
    "    well_types = [\"New Wells\", \"Wip Wells\", \"Inventory Wells\", \"PDP Wells\", \"Drilled Completed Wells\"]\n",
    "    \n",
    "    for i, df in enumerate([new_wells_production, wip_wells_production, inventory_wells_production, producing_wells_production, drilled_comp_wells]):\n",
    "        suffix = f'_{well_types[i]}'\n",
    "        merged_df = merged_df.merge(df, on='production_month_year', how='outer', suffixes=('', suffix))\n",
    "    \n",
    "    merged_df.rename({'entityID': 'entityID_New Wells'}, inplace=True, axis=1)\n",
    "    \n",
    "    merged_df = merged_df.fillna(0)\n",
    "    merged_df['production_month_year'] = merged_df['production_month_year'].astype(str)\n",
    "    \n",
    "    fig = px.area(merged_df, x='production_month_year', \n",
    "                  y=['entityID_PDP Wells', 'entityID_New Wells', 'entityID_Wip Wells', 'entityID_Inventory Wells', 'entityID_Drilled Completed Wells'], \n",
    "                  title='Stacked Plot for wells coming online for all wells status',\n",
    "                  labels={'value': 'number of wells'},\n",
    "                  template='plotly_dark',  \n",
    "                  color_discrete_map={'entityID_PDP Wells': '#FFA500', \n",
    "                                      'entityID_New Wells': '#33CC33', \n",
    "                                      'entityID_Wip Wells': '#0000FF', \n",
    "                                      'entityID_Inventory Wells': '#FF00FF',\n",
    "                                      'entityID_Drilled Completed Wells': '#FF0000'},\n",
    "                  )\n",
    "    fig.update_layout(xaxis_title='Time')\n",
    "    fig.show()\n"
   ]
  },
  {
   "cell_type": "code",
   "execution_count": 0,
   "metadata": {
    "application/vnd.databricks.v1+cell": {
     "cellMetadata": {
      "byteLimit": 2048000,
      "rowLimit": 10000
     },
     "inputWidgets": {},
     "nuid": "fac0ee7a-421c-4149-8984-874b1382ed4a",
     "showTitle": false,
     "title": ""
    }
   },
   "outputs": [
    {
     "output_type": "display_data",
     "data": {
      "text/html": [
       "<html>\n",
       "<head><meta charset=\"utf-8\" /></head>\n",
       "<body>\n",
       "    <div>            <script src=\"https://cdnjs.cloudflare.com/ajax/libs/mathjax/2.7.5/MathJax.js?config=TeX-AMS-MML_SVG\"></script><script type=\"text/javascript\">if (window.MathJax && window.MathJax.Hub && window.MathJax.Hub.Config) {window.MathJax.Hub.Config({SVG: {font: \"STIX-Web\"}});}</script>                <script type=\"text/javascript\">window.PlotlyConfig = {MathJaxConfig: 'local'};</script>\n",
       "        <script src=\"https://cdn.plot.ly/plotly-2.12.1.min.js\"></script>                <div id=\"a8f962ce-7c06-4ab7-8504-9a0ac59ac89a\" class=\"plotly-graph-div\" style=\"height:100%; width:100%;\"></div>            <script type=\"text/javascript\">                                    window.PLOTLYENV=window.PLOTLYENV || {};                                    if (document.getElementById(\"a8f962ce-7c06-4ab7-8504-9a0ac59ac89a\")) {                    Plotly.newPlot(                        \"a8f962ce-7c06-4ab7-8504-9a0ac59ac89a\",                        [{\"fillpattern\":{\"shape\":\"\"},\"hovertemplate\":\"variable=Gas_BCFD_PDP Wells<br>production_month_year=%{x}<br>amount of gas (BCFD)=%{y}<extra></extra>\",\"legendgroup\":\"Gas_BCFD_PDP Wells\",\"line\":{\"color\":\"#FFA500\"},\"marker\":{\"symbol\":\"circle\"},\"mode\":\"lines\",\"name\":\"Gas_BCFD_PDP Wells\",\"orientation\":\"v\",\"showlegend\":true,\"stackgroup\":\"1\",\"x\":[\"2023-11\",\"2023-12\",\"2024-01\",\"2024-02\",\"2024-03\",\"2024-04\",\"2024-05\",\"2024-06\",\"2024-07\",\"2024-08\",\"2024-09\",\"2024-10\",\"2024-11\",\"2024-12\",\"2025-01\",\"2025-02\",\"2025-03\",\"2025-04\",\"2025-05\",\"2025-06\",\"2025-07\",\"2025-08\",\"2025-09\",\"2025-10\",\"2025-11\",\"2025-12\",\"2026-01\",\"2026-02\",\"2026-03\",\"2026-04\",\"2026-05\",\"2026-06\",\"2026-07\",\"2026-08\",\"2026-09\",\"2026-10\",\"2026-11\",\"2026-12\",\"2027-01\",\"2027-02\",\"2027-03\",\"2027-04\",\"2027-05\",\"2027-06\",\"2027-07\",\"2027-08\",\"2027-09\",\"2027-10\",\"2027-11\",\"2027-12\",\"2028-01\",\"2028-02\",\"2028-03\",\"2028-04\",\"2028-05\",\"2028-06\",\"2028-07\",\"2028-08\",\"2028-09\",\"2028-10\",\"2028-11\",\"2028-12\",\"2029-01\",\"2029-02\",\"2029-03\",\"2029-04\",\"2029-05\",\"2029-06\",\"2029-07\",\"2029-08\",\"2029-09\",\"2029-10\",\"2029-11\",\"2029-12\",\"2030-01\",\"2030-02\",\"2030-03\",\"2030-04\",\"2030-05\",\"2030-06\",\"2030-07\",\"2030-08\",\"2030-09\",\"2030-10\",\"2030-11\",\"2030-12\",\"2031-01\",\"2031-02\",\"2031-03\",\"2031-04\",\"2031-05\",\"2031-06\",\"2031-07\",\"2031-08\",\"2031-09\",\"2031-10\",\"2031-11\",\"2031-12\",\"2032-01\",\"2032-02\",\"2032-03\",\"2032-04\",\"2032-05\",\"2032-06\",\"2032-07\",\"2032-08\",\"2032-09\",\"2032-10\",\"2032-11\",\"2032-12\",\"2033-01\",\"2033-02\",\"2033-03\",\"2033-04\",\"2033-05\",\"2033-06\",\"2033-07\",\"2033-08\",\"2033-09\",\"2033-10\",\"2033-11\",\"2033-12\",\"2034-01\",\"2034-02\",\"2034-03\",\"2034-04\",\"2034-05\",\"2034-06\",\"2034-07\",\"2034-08\",\"2034-09\",\"2034-10\",\"2034-11\",\"2034-12\",\"2035-01\",\"2035-02\",\"2035-03\",\"2035-04\",\"2035-05\",\"2035-06\",\"2035-07\",\"2035-08\",\"2035-09\",\"2035-10\",\"2035-11\",\"2035-12\",\"2036-01\",\"2036-02\",\"2036-03\",\"2036-04\",\"2036-05\",\"2036-06\",\"2036-07\",\"2036-08\",\"2036-09\",\"2036-10\",\"2036-11\",\"2036-12\",\"2037-01\",\"2037-02\",\"2037-03\",\"2037-04\",\"2037-05\",\"2037-06\",\"2037-07\",\"2037-08\",\"2037-09\",\"2037-10\",\"2037-11\",\"2037-12\",\"2038-01\",\"2038-02\",\"2038-03\",\"2038-04\",\"2038-05\",\"2038-06\",\"2038-07\",\"2038-08\",\"2038-09\",\"2038-10\",\"2038-11\",\"2038-12\",\"2039-01\",\"2039-02\",\"2039-03\",\"2039-04\",\"2039-05\",\"2019-05\",\"2019-06\",\"2019-07\",\"2019-08\",\"2019-09\",\"2019-10\",\"2019-11\",\"2019-12\",\"2020-01\",\"2020-02\",\"2020-03\",\"2020-04\",\"2020-05\",\"2020-06\",\"2020-07\",\"2020-08\",\"2020-09\",\"2020-10\",\"2020-11\",\"2020-12\",\"2021-01\",\"2021-02\",\"2021-03\",\"2021-04\",\"2021-05\",\"2021-06\",\"2021-07\",\"2021-08\",\"2021-09\",\"2021-10\",\"2021-11\",\"2021-12\",\"2022-01\",\"2022-02\",\"2022-03\",\"2022-04\",\"2022-05\",\"2022-06\",\"2022-07\",\"2022-08\",\"2022-09\",\"2022-10\",\"2022-11\",\"2022-12\",\"2023-01\",\"2023-02\",\"2023-03\",\"2023-04\",\"2023-05\",\"2023-06\",\"2023-07\",\"2023-08\",\"2023-09\",\"2023-10\"],\"xaxis\":\"x\",\"y\":[11.1819486618042,10.83851432800293,10.631304740905762,10.16049861907959,9.691749572753906,8.972050666809082,8.598170280456543,7.958765506744385,7.678499221801758,7.245170593261719,6.788312911987305,6.574361324310303,6.146653175354004,5.978593826293945,5.7069091796875,5.161168098449707,5.241236686706543,4.9337568283081055,4.84345817565918,4.572249412536621,4.495725631713867,4.338574409484863,4.106739521026611,4.058622360229492,3.8408026695251465,3.8080649375915527,3.694528341293335,3.363633155822754,3.492082357406616,3.3205764293670654,3.3066813945770264,3.146026611328125,3.13378643989563,3.052783489227295,2.9092185497283936,2.903226137161255,2.771378517150879,2.7688534259796143,2.70596981048584,2.4640932083129883,2.590106964111328,2.474651336669922,2.4797022342681885,2.3721554279327393,2.37532377243042,2.332127094268799,2.2338027954101562,2.242337942123413,2.147418737411499,2.1613125801086426,2.1226940155029297,1.9862934350967407,2.045224905014038,1.9605306386947632,1.9748990535736084,1.8941624164581299,1.9080724716186523,1.8773518800735474,1.804449200630188,1.8193987607955933,1.7473583221435547,1.7646135091781616,1.738355040550232,1.5861401557922363,1.68622887134552,1.620320439338684,1.636117696762085,1.5724544525146484,1.5894593000411987,1.5684359073638916,1.5081161260604858,1.5250277519226074,1.4662466049194336,1.4840422868728638,1.464155912399292,1.3364059925079346,1.4255975484848022,1.3722792863845825,1.38941490650177,1.3381205797195435,1.3546862602233887,1.3387634754180908,1.2895137071609497,1.3076741695404053,1.2577778100967407,1.2738029956817627,1.2598631381988525,1.1508461236953735,1.231058955192566,1.1866298913955688,1.2034493684768677,1.1605359315872192,1.1765118837356567,1.1640278100967407,1.1210700273513794,1.1383296251296997,1.0970516204833984,1.1138091087341309,1.1019011735916138,1.0341753959655762,1.078644871711731,1.0399558544158936,1.0562742948532104,1.0185904502868652,1.0349289178848267,1.0246373414993286,0.9880871772766113,1.0043964385986328,0.9687350392341614,0.9849006533622742,0.9753642082214355,0.89073246717453,0.95685213804245,0.9231513738632202,0.9389594197273254,0.9060155749320984,0.9216466546058655,0.9133260250091553,0.8813437223434448,0.8968294858932495,0.8655107021331787,0.8809028267860413,0.8730530142784119,0.7973684072494507,0.8578302264213562,0.8280889987945557,0.8430564999580383,0.8139057755470276,0.8287194967269897,0.8217782378196716,0.7934035658836365,0.808063268661499,0.7802660465240479,0.7947800755500793,0.7883126735687256,0.7199822664260864,0.7756655812263489,0.7490814924240112,0.7632549405097961,0.7371500730514526,0.7511906027793884,0.7452954649925232,0.7198411822319031,0.7336462736129761,0.7086837291717529,0.7224224805831909,0.7168038487434387,0.6736069917678833,0.7059349417686462,0.6820461750030518,0.6953524947166443,0.6718199253082275,0.6851016283035278,0.6800743937492371,0.6571449637413025,0.6702122092247009,0.6475982666015625,0.660554826259613,0.6557777523994446,0.5989598631858826,0.6464599370956421,0.6247372627258301,0.6373577117919922,0.6159688830375671,0.6284621357917786,0.624127209186554,0.6032086610794067,0.6155337691307068,0.5949236154556274,0.6071479916572571,0.6029819250106812,0.5507382750511169,0.594862163066864,0.5750206112861633,0.5869160890579224,0.5673630833625793,0.5791412591934204,0.5753489136695862,0.5561952590942383,0.5678179860115051,0.548931360244751,0.5604578852653503,0.5567949414253235,0.5085474252700806,0.549650251865387,0.5314292907714844,0.03323620557785034,0.0016084795352071524,5.664824485778809,6.05239200592041,6.146215915679932,5.9723663330078125,6.307859420776367,6.2502970695495605,6.574012756347656,6.392416477203369,6.004323959350586,6.631289958953857,6.616316795349121,7.060118675231934,6.629858016967773,6.547906398773193,6.5787811279296875,6.540384769439697,6.8166961669921875,6.9538254737854,7.475743770599365,7.520091533660889,6.071898460388184,7.768452167510986,7.728382587432861,7.955284595489502,7.9753618240356445,8.58116340637207,8.592052459716797,8.600821495056152,9.063660621643066,9.163804054260254,9.763490676879883,9.761086463928223,8.9146089553833,9.573050498962402,9.832180976867676,10.444934844970703,9.984999656677246,10.212450981140137,10.409071922302246,10.374017715454102,11.087973594665527,11.002799987792969,11.08948802947998,11.30710220336914,10.415438652038574,11.346953392028809,11.09175968170166,11.908180236816406,11.125962257385254,11.758432388305664,11.878081321716309,11.441757202148438,11.718893051147461],\"yaxis\":\"y\",\"type\":\"scatter\"},{\"fillpattern\":{\"shape\":\"\"},\"hovertemplate\":\"variable=Gas_BCFD_New Wells<br>production_month_year=%{x}<br>amount of gas (BCFD)=%{y}<extra></extra>\",\"legendgroup\":\"Gas_BCFD_New Wells\",\"line\":{\"color\":\"#33CC33\"},\"marker\":{\"symbol\":\"circle\"},\"mode\":\"lines\",\"name\":\"Gas_BCFD_New Wells\",\"orientation\":\"v\",\"showlegend\":true,\"stackgroup\":\"1\",\"x\":[\"2023-11\",\"2023-12\",\"2024-01\",\"2024-02\",\"2024-03\",\"2024-04\",\"2024-05\",\"2024-06\",\"2024-07\",\"2024-08\",\"2024-09\",\"2024-10\",\"2024-11\",\"2024-12\",\"2025-01\",\"2025-02\",\"2025-03\",\"2025-04\",\"2025-05\",\"2025-06\",\"2025-07\",\"2025-08\",\"2025-09\",\"2025-10\",\"2025-11\",\"2025-12\",\"2026-01\",\"2026-02\",\"2026-03\",\"2026-04\",\"2026-05\",\"2026-06\",\"2026-07\",\"2026-08\",\"2026-09\",\"2026-10\",\"2026-11\",\"2026-12\",\"2027-01\",\"2027-02\",\"2027-03\",\"2027-04\",\"2027-05\",\"2027-06\",\"2027-07\",\"2027-08\",\"2027-09\",\"2027-10\",\"2027-11\",\"2027-12\",\"2028-01\",\"2028-02\",\"2028-03\",\"2028-04\",\"2028-05\",\"2028-06\",\"2028-07\",\"2028-08\",\"2028-09\",\"2028-10\",\"2028-11\",\"2028-12\",\"2029-01\",\"2029-02\",\"2029-03\",\"2029-04\",\"2029-05\",\"2029-06\",\"2029-07\",\"2029-08\",\"2029-09\",\"2029-10\",\"2029-11\",\"2029-12\",\"2030-01\",\"2030-02\",\"2030-03\",\"2030-04\",\"2030-05\",\"2030-06\",\"2030-07\",\"2030-08\",\"2030-09\",\"2030-10\",\"2030-11\",\"2030-12\",\"2031-01\",\"2031-02\",\"2031-03\",\"2031-04\",\"2031-05\",\"2031-06\",\"2031-07\",\"2031-08\",\"2031-09\",\"2031-10\",\"2031-11\",\"2031-12\",\"2032-01\",\"2032-02\",\"2032-03\",\"2032-04\",\"2032-05\",\"2032-06\",\"2032-07\",\"2032-08\",\"2032-09\",\"2032-10\",\"2032-11\",\"2032-12\",\"2033-01\",\"2033-02\",\"2033-03\",\"2033-04\",\"2033-05\",\"2033-06\",\"2033-07\",\"2033-08\",\"2033-09\",\"2033-10\",\"2033-11\",\"2033-12\",\"2034-01\",\"2034-02\",\"2034-03\",\"2034-04\",\"2034-05\",\"2034-06\",\"2034-07\",\"2034-08\",\"2034-09\",\"2034-10\",\"2034-11\",\"2034-12\",\"2035-01\",\"2035-02\",\"2035-03\",\"2035-04\",\"2035-05\",\"2035-06\",\"2035-07\",\"2035-08\",\"2035-09\",\"2035-10\",\"2035-11\",\"2035-12\",\"2036-01\",\"2036-02\",\"2036-03\",\"2036-04\",\"2036-05\",\"2036-06\",\"2036-07\",\"2036-08\",\"2036-09\",\"2036-10\",\"2036-11\",\"2036-12\",\"2037-01\",\"2037-02\",\"2037-03\",\"2037-04\",\"2037-05\",\"2037-06\",\"2037-07\",\"2037-08\",\"2037-09\",\"2037-10\",\"2037-11\",\"2037-12\",\"2038-01\",\"2038-02\",\"2038-03\",\"2038-04\",\"2038-05\",\"2038-06\",\"2038-07\",\"2038-08\",\"2038-09\",\"2038-10\",\"2038-11\",\"2038-12\",\"2039-01\",\"2039-02\",\"2039-03\",\"2039-04\",\"2039-05\",\"2019-05\",\"2019-06\",\"2019-07\",\"2019-08\",\"2019-09\",\"2019-10\",\"2019-11\",\"2019-12\",\"2020-01\",\"2020-02\",\"2020-03\",\"2020-04\",\"2020-05\",\"2020-06\",\"2020-07\",\"2020-08\",\"2020-09\",\"2020-10\",\"2020-11\",\"2020-12\",\"2021-01\",\"2021-02\",\"2021-03\",\"2021-04\",\"2021-05\",\"2021-06\",\"2021-07\",\"2021-08\",\"2021-09\",\"2021-10\",\"2021-11\",\"2021-12\",\"2022-01\",\"2022-02\",\"2022-03\",\"2022-04\",\"2022-05\",\"2022-06\",\"2022-07\",\"2022-08\",\"2022-09\",\"2022-10\",\"2022-11\",\"2022-12\",\"2023-01\",\"2023-02\",\"2023-03\",\"2023-04\",\"2023-05\",\"2023-06\",\"2023-07\",\"2023-08\",\"2023-09\",\"2023-10\"],\"xaxis\":\"x\",\"y\":[0.021791737526655197,0.09120944142341614,0.15435893833637238,0.14753121137619019,0.16016912460327148,0.16574378311634064,0.15682369470596313,0.1509261429309845,0.14165925979614258,0.13114935159683228,0.12305420637130737,0.11226125806570053,0.10361453890800476,0.09491744637489319,0.08826737850904465,0.08042517304420471,0.07270306348800659,0.06796266883611679,0.06246776133775711,0.05926286801695824,0.054916366934776306,0.05286399647593498,0.04832184314727783,0.04550209641456604,0.04312857240438461,0.0406428687274456,0.03794218599796295,0.03656807541847229,0.034840721637010574,0.032787688076496124,0.030929211527109146,0.02946854755282402,0.028116710484027863,0.026563089340925217,0.025105208158493042,0.0238121896982193,0.023133641108870506,0.02154015190899372,0.021253196522593498,0.020628631114959717,0.020029664039611816,0.019022060558199883,0.0182588379830122,0.017892496660351753,0.017177432775497437,0.01625903509557247,0.01567358523607254,0.015675034373998642,0.014671850949525833,0.014392408542335033,0.014367720112204552,0.014055605046451092,0.0134851960465312,0.013140655122697353,0.012914084829390049,0.012555823661386967,0.012293814681470394,0.012090476229786873,0.01160973496735096,0.011238581500947475,0.011064023710787296,0.010739216580986977,0.010541430674493313,0.010275010950863361,0.010058537125587463,0.009790480136871338,0.009524362161755562,0.009355702437460423,0.009161919355392456,0.009007878601551056,0.008878556080162525,0.008611512370407581,0.008449196815490723,0.008315380662679672,0.008131117559969425,0.00801755115389824,0.007883290760219097,0.0077357301488518715,0.007516650017350912,0.007389713078737259,0.007223551161587238,0.007101906463503838,0.006984645966440439,0.006870998069643974,0.006774041801691055,0.006676133722066879,0.006522407755255699,0.00642798375338316,0.006310369819402695,0.006213773507624865,0.006104351952672005,0.006019068881869316,0.006122951861470938,0.0061911121010780334,0.005842351354658604,0.006097800098359585,0.005805443972349167,0.005819650366902351,0.0056045628152787685,0.005550808738917112,0.00545968534424901,0.005363092292100191,0.005256433505564928,0.005167477764189243,0.005034537985920906,0.004961119964718819,0.004900651518255472,0.004820972215384245,0.0047296080738306046,0.004681724589318037,0.004598053637892008,0.0045496271923184395,0.004481345880776644,0.004425415303558111,0.004359773360192776,0.004297398496419191,0.004249808844178915,0.0041847629472613335,0.00413722638040781,0.004093107767403126,0.004041770473122597,0.003996925428509712,0.003934317268431187,0.0039011742919683456,0.0038462746888399124,0.003802729304879904,0.0037556190509349108,0.0037185722030699253,0.0036743534728884697,0.0036284103989601135,0.003590588690713048,0.0035438528284430504,0.0035057165659964085,0.003478453028947115,0.0034247967414557934,0.0033852276392281055,0.0033518262207508087,0.0033158333972096443,0.0033111879602074623,0.0032760007306933403,0.0032446985132992268,0.003207065863534808,0.0031896657310426235,0.0031471336260437965,0.0031036483123898506,0.0030659667681902647,0.0030409349128603935,0.003010061103850603,0.002971871756017208,0.0029443774838000536,0.0029099024832248688,0.002901362953707576,0.0028422335162758827,0.002812983002513647,0.0027941525913774967,0.0027620424516499043,0.0027563760522753,0.002733218716457486,0.0027048306073993444,0.00268340646289289,0.002655411371961236,0.002634354867041111,0.002607606118544936,0.002588748699054122,0.002565386239439249,0.002540952293202281,0.002522854134440422,0.0024955954868346453,0.002477989299222827,0.0024603386409580708,0.0024341256357729435,0.002417380455881357,0.002392502035945654,0.002374874195083976,0.002352421870455146,0.002337573328986764,0.002317312639206648,0.002296424238011241,0.0022813938558101654,0.002258117077872157,0.0022434554994106293,0.0022288975305855274,0.0022062724456191063,0.0021922874730080366,0.0021709681022912264,0.0021561947651207447,0.002136928029358387,0.0,0.0,0.0,0.0,0.0,0.0,0.0,0.0,0.0,0.0,0.0,0.0,0.0,0.0,0.0,0.0,0.0,0.0,0.0,0.0,0.0,0.0,0.0,0.0,0.0,0.0,0.0,0.0,0.0,0.0,0.0,0.0,0.0,0.0,0.0,0.0,0.0,0.0,0.0,0.0,0.0,0.0,0.0,0.0,0.0,0.0,0.0,0.0,0.0,0.0,0.0,0.0,0.0,0.0],\"yaxis\":\"y\",\"type\":\"scatter\"},{\"fillpattern\":{\"shape\":\"\"},\"hovertemplate\":\"variable=Gas_BCFD_Wip Wells<br>production_month_year=%{x}<br>amount of gas (BCFD)=%{y}<extra></extra>\",\"legendgroup\":\"Gas_BCFD_Wip Wells\",\"line\":{\"color\":\"#0000FF\"},\"marker\":{\"symbol\":\"circle\"},\"mode\":\"lines\",\"name\":\"Gas_BCFD_Wip Wells\",\"orientation\":\"v\",\"showlegend\":true,\"stackgroup\":\"1\",\"x\":[\"2023-11\",\"2023-12\",\"2024-01\",\"2024-02\",\"2024-03\",\"2024-04\",\"2024-05\",\"2024-06\",\"2024-07\",\"2024-08\",\"2024-09\",\"2024-10\",\"2024-11\",\"2024-12\",\"2025-01\",\"2025-02\",\"2025-03\",\"2025-04\",\"2025-05\",\"2025-06\",\"2025-07\",\"2025-08\",\"2025-09\",\"2025-10\",\"2025-11\",\"2025-12\",\"2026-01\",\"2026-02\",\"2026-03\",\"2026-04\",\"2026-05\",\"2026-06\",\"2026-07\",\"2026-08\",\"2026-09\",\"2026-10\",\"2026-11\",\"2026-12\",\"2027-01\",\"2027-02\",\"2027-03\",\"2027-04\",\"2027-05\",\"2027-06\",\"2027-07\",\"2027-08\",\"2027-09\",\"2027-10\",\"2027-11\",\"2027-12\",\"2028-01\",\"2028-02\",\"2028-03\",\"2028-04\",\"2028-05\",\"2028-06\",\"2028-07\",\"2028-08\",\"2028-09\",\"2028-10\",\"2028-11\",\"2028-12\",\"2029-01\",\"2029-02\",\"2029-03\",\"2029-04\",\"2029-05\",\"2029-06\",\"2029-07\",\"2029-08\",\"2029-09\",\"2029-10\",\"2029-11\",\"2029-12\",\"2030-01\",\"2030-02\",\"2030-03\",\"2030-04\",\"2030-05\",\"2030-06\",\"2030-07\",\"2030-08\",\"2030-09\",\"2030-10\",\"2030-11\",\"2030-12\",\"2031-01\",\"2031-02\",\"2031-03\",\"2031-04\",\"2031-05\",\"2031-06\",\"2031-07\",\"2031-08\",\"2031-09\",\"2031-10\",\"2031-11\",\"2031-12\",\"2032-01\",\"2032-02\",\"2032-03\",\"2032-04\",\"2032-05\",\"2032-06\",\"2032-07\",\"2032-08\",\"2032-09\",\"2032-10\",\"2032-11\",\"2032-12\",\"2033-01\",\"2033-02\",\"2033-03\",\"2033-04\",\"2033-05\",\"2033-06\",\"2033-07\",\"2033-08\",\"2033-09\",\"2033-10\",\"2033-11\",\"2033-12\",\"2034-01\",\"2034-02\",\"2034-03\",\"2034-04\",\"2034-05\",\"2034-06\",\"2034-07\",\"2034-08\",\"2034-09\",\"2034-10\",\"2034-11\",\"2034-12\",\"2035-01\",\"2035-02\",\"2035-03\",\"2035-04\",\"2035-05\",\"2035-06\",\"2035-07\",\"2035-08\",\"2035-09\",\"2035-10\",\"2035-11\",\"2035-12\",\"2036-01\",\"2036-02\",\"2036-03\",\"2036-04\",\"2036-05\",\"2036-06\",\"2036-07\",\"2036-08\",\"2036-09\",\"2036-10\",\"2036-11\",\"2036-12\",\"2037-01\",\"2037-02\",\"2037-03\",\"2037-04\",\"2037-05\",\"2037-06\",\"2037-07\",\"2037-08\",\"2037-09\",\"2037-10\",\"2037-11\",\"2037-12\",\"2038-01\",\"2038-02\",\"2038-03\",\"2038-04\",\"2038-05\",\"2038-06\",\"2038-07\",\"2038-08\",\"2038-09\",\"2038-10\",\"2038-11\",\"2038-12\",\"2039-01\",\"2039-02\",\"2039-03\",\"2039-04\",\"2039-05\",\"2019-05\",\"2019-06\",\"2019-07\",\"2019-08\",\"2019-09\",\"2019-10\",\"2019-11\",\"2019-12\",\"2020-01\",\"2020-02\",\"2020-03\",\"2020-04\",\"2020-05\",\"2020-06\",\"2020-07\",\"2020-08\",\"2020-09\",\"2020-10\",\"2020-11\",\"2020-12\",\"2021-01\",\"2021-02\",\"2021-03\",\"2021-04\",\"2021-05\",\"2021-06\",\"2021-07\",\"2021-08\",\"2021-09\",\"2021-10\",\"2021-11\",\"2021-12\",\"2022-01\",\"2022-02\",\"2022-03\",\"2022-04\",\"2022-05\",\"2022-06\",\"2022-07\",\"2022-08\",\"2022-09\",\"2022-10\",\"2022-11\",\"2022-12\",\"2023-01\",\"2023-02\",\"2023-03\",\"2023-04\",\"2023-05\",\"2023-06\",\"2023-07\",\"2023-08\",\"2023-09\",\"2023-10\"],\"xaxis\":\"x\",\"y\":[0.42391669750213623,0.8400342464447021,0.8526437282562256,0.8402113318443298,0.9251468181610107,1.0502177476882935,1.0734965801239014,1.0090209245681763,0.9374409914016724,0.8689050674438477,0.8246168494224548,0.7591917514801025,0.6987838745117188,0.6415026187896729,0.6002209186553955,0.5478615760803223,0.512669563293457,0.47041985392570496,0.4343453645706177,0.4096764624118805,0.3870765268802643,0.3619961142539978,0.33368080854415894,0.31559842824935913,0.30390745401382446,0.2815462052822113,0.2716825008392334,0.25841018557548523,0.24557553231716156,0.23413300514221191,0.21972700953483582,0.21020977199077606,0.19989357888698578,0.1898181289434433,0.18291164934635162,0.17299088835716248,0.16600292921066284,0.15675973892211914,0.15131624042987823,0.14562787115573883,0.1400345265865326,0.13444730639457703,0.13060174882411957,0.12614452838897705,0.1229773536324501,0.11842077225446701,0.1143573597073555,0.11029968410730362,0.10689126700162888,0.10337929427623749,0.0997970700263977,0.09635263681411743,0.09427348524332047,0.09122055023908615,0.0885523185133934,0.08602127432823181,0.08348191529512405,0.08154807984828949,0.0797218531370163,0.07762504369020462,0.076908640563488,0.0759875699877739,0.07444945722818375,0.07223156839609146,0.07082315534353256,0.06964554637670517,0.06783506274223328,0.06678231805562973,0.06571393460035324,0.06375149637460709,0.06239529326558113,0.06150956079363823,0.060011252760887146,0.05882401764392853,0.05751916766166687,0.05716201663017273,0.0556056834757328,0.05480683222413063,0.053467754274606705,0.053535159677267075,0.05268528684973717,0.053701840341091156,0.051686011254787445,0.04891248047351837,0.04903292655944824,0.04834375157952309,0.047865431755781174,0.04660385102033615,0.04587116837501526,0.045124754309654236,0.04402216523885727,0.04399983957409859,0.043159227818250656,0.0431651771068573,0.04173688217997551,0.041471466422080994,0.04086747020483017,0.0401584655046463,0.03942182660102844,0.03877128288149834,0.0380973219871521,0.03751586005091667,0.036947377026081085,0.03636900335550308,0.03573046252131462,0.03521000221371651,0.03470996394753456,0.03425099700689316,0.033759474754333496,0.03329459950327873,0.03282513469457626,0.032394323498010635,0.03198055550456047,0.03154856339097023,0.031154239550232887,0.03076270781457424,0.03040078654885292,0.030015021562576294,0.029627393931150436,0.02930573746562004,0.028973253443837166,0.02860589697957039,0.028242552652955055,0.027941694483160973,0.027603743597865105,0.027273550629615784,0.026969337835907936,0.02665855549275875,0.026378346607089043,0.02609117329120636,0.025782518088817596,0.025487566366791725,0.02523834817111492,0.024955440312623978,0.024729739874601364,0.024459144100546837,0.024199562147259712,0.023941075429320335,0.023765666410326958,0.02352728694677353,0.023280514404177666,0.023022331297397614,0.02282535657286644,0.022593598812818527,0.022352062165737152,0.022093074396252632,0.02186615951359272,0.02170160785317421,0.02141343429684639,0.021198544651269913,0.021004416048526764,0.020818786695599556,0.02063782699406147,0.020417382940649986,0.020235799252986908,0.020051155239343643,0.019898226484656334,0.019729506224393845,0.019541800022125244,0.019381163641810417,0.019200492650270462,0.019028805196285248,0.018870338797569275,0.0186996478587389,0.018558450043201447,0.018396630883216858,0.01823827438056469,0.018084783107042313,0.01794254034757614,0.017786076292395592,0.0176252331584692,0.017494671046733856,0.017338920384645462,0.017192551866173744,0.017059503123164177,0.016916219145059586,0.01679708994925022,0.01666051708161831,0.01652657985687256,0.01639733463525772,0.016277218237519264,0.016144778579473495,0.016008026897907257,0.015897711738944054,0.015764974057674408,0.015640322118997574,0.015527504496276379,0.0,0.0,0.0,0.0,0.0,0.0,0.0,0.0,0.0,0.0,0.0,0.0,0.0,0.0,0.0,0.0,0.0,0.0,0.0,0.0,0.0,0.0,0.0,0.0,0.0,0.0,0.0,0.0,0.0,0.0,0.0,0.0,0.0,0.0,0.0,0.0,0.0,0.0,0.0,0.0,0.0,0.0,0.0,0.0,0.0,0.0,0.0,0.0,0.0,0.0,0.0,0.0,0.0,0.0],\"yaxis\":\"y\",\"type\":\"scatter\"},{\"fillpattern\":{\"shape\":\"\"},\"hovertemplate\":\"variable=Gas_BCFD_Inventory Wells<br>production_month_year=%{x}<br>amount of gas (BCFD)=%{y}<extra></extra>\",\"legendgroup\":\"Gas_BCFD_Inventory Wells\",\"line\":{\"color\":\"#FF00FF\"},\"marker\":{\"symbol\":\"circle\"},\"mode\":\"lines\",\"name\":\"Gas_BCFD_Inventory Wells\",\"orientation\":\"v\",\"showlegend\":true,\"stackgroup\":\"1\",\"x\":[\"2023-11\",\"2023-12\",\"2024-01\",\"2024-02\",\"2024-03\",\"2024-04\",\"2024-05\",\"2024-06\",\"2024-07\",\"2024-08\",\"2024-09\",\"2024-10\",\"2024-11\",\"2024-12\",\"2025-01\",\"2025-02\",\"2025-03\",\"2025-04\",\"2025-05\",\"2025-06\",\"2025-07\",\"2025-08\",\"2025-09\",\"2025-10\",\"2025-11\",\"2025-12\",\"2026-01\",\"2026-02\",\"2026-03\",\"2026-04\",\"2026-05\",\"2026-06\",\"2026-07\",\"2026-08\",\"2026-09\",\"2026-10\",\"2026-11\",\"2026-12\",\"2027-01\",\"2027-02\",\"2027-03\",\"2027-04\",\"2027-05\",\"2027-06\",\"2027-07\",\"2027-08\",\"2027-09\",\"2027-10\",\"2027-11\",\"2027-12\",\"2028-01\",\"2028-02\",\"2028-03\",\"2028-04\",\"2028-05\",\"2028-06\",\"2028-07\",\"2028-08\",\"2028-09\",\"2028-10\",\"2028-11\",\"2028-12\",\"2029-01\",\"2029-02\",\"2029-03\",\"2029-04\",\"2029-05\",\"2029-06\",\"2029-07\",\"2029-08\",\"2029-09\",\"2029-10\",\"2029-11\",\"2029-12\",\"2030-01\",\"2030-02\",\"2030-03\",\"2030-04\",\"2030-05\",\"2030-06\",\"2030-07\",\"2030-08\",\"2030-09\",\"2030-10\",\"2030-11\",\"2030-12\",\"2031-01\",\"2031-02\",\"2031-03\",\"2031-04\",\"2031-05\",\"2031-06\",\"2031-07\",\"2031-08\",\"2031-09\",\"2031-10\",\"2031-11\",\"2031-12\",\"2032-01\",\"2032-02\",\"2032-03\",\"2032-04\",\"2032-05\",\"2032-06\",\"2032-07\",\"2032-08\",\"2032-09\",\"2032-10\",\"2032-11\",\"2032-12\",\"2033-01\",\"2033-02\",\"2033-03\",\"2033-04\",\"2033-05\",\"2033-06\",\"2033-07\",\"2033-08\",\"2033-09\",\"2033-10\",\"2033-11\",\"2033-12\",\"2034-01\",\"2034-02\",\"2034-03\",\"2034-04\",\"2034-05\",\"2034-06\",\"2034-07\",\"2034-08\",\"2034-09\",\"2034-10\",\"2034-11\",\"2034-12\",\"2035-01\",\"2035-02\",\"2035-03\",\"2035-04\",\"2035-05\",\"2035-06\",\"2035-07\",\"2035-08\",\"2035-09\",\"2035-10\",\"2035-11\",\"2035-12\",\"2036-01\",\"2036-02\",\"2036-03\",\"2036-04\",\"2036-05\",\"2036-06\",\"2036-07\",\"2036-08\",\"2036-09\",\"2036-10\",\"2036-11\",\"2036-12\",\"2037-01\",\"2037-02\",\"2037-03\",\"2037-04\",\"2037-05\",\"2037-06\",\"2037-07\",\"2037-08\",\"2037-09\",\"2037-10\",\"2037-11\",\"2037-12\",\"2038-01\",\"2038-02\",\"2038-03\",\"2038-04\",\"2038-05\",\"2038-06\",\"2038-07\",\"2038-08\",\"2038-09\",\"2038-10\",\"2038-11\",\"2038-12\",\"2039-01\",\"2039-02\",\"2039-03\",\"2039-04\",\"2039-05\",\"2019-05\",\"2019-06\",\"2019-07\",\"2019-08\",\"2019-09\",\"2019-10\",\"2019-11\",\"2019-12\",\"2020-01\",\"2020-02\",\"2020-03\",\"2020-04\",\"2020-05\",\"2020-06\",\"2020-07\",\"2020-08\",\"2020-09\",\"2020-10\",\"2020-11\",\"2020-12\",\"2021-01\",\"2021-02\",\"2021-03\",\"2021-04\",\"2021-05\",\"2021-06\",\"2021-07\",\"2021-08\",\"2021-09\",\"2021-10\",\"2021-11\",\"2021-12\",\"2022-01\",\"2022-02\",\"2022-03\",\"2022-04\",\"2022-05\",\"2022-06\",\"2022-07\",\"2022-08\",\"2022-09\",\"2022-10\",\"2022-11\",\"2022-12\",\"2023-01\",\"2023-02\",\"2023-03\",\"2023-04\",\"2023-05\",\"2023-06\",\"2023-07\",\"2023-08\",\"2023-09\",\"2023-10\"],\"xaxis\":\"x\",\"y\":[0.0,0.0,0.0,0.0,0.014418739825487137,0.11024673283100128,0.37271133065223694,0.8977432250976562,1.4972113370895386,1.9946949481964111,2.506971836090088,3.053309917449951,3.5038163661956787,3.855949878692627,4.250654220581055,4.508499622344971,4.758763313293457,5.112759113311768,5.405216693878174,5.58080530166626,5.723018169403076,5.897878646850586,6.066555976867676,6.174466609954834,6.302046298980713,6.367201328277588,6.420060634613037,6.544493675231934,6.66737699508667,6.733249664306641,6.780942916870117,6.924106121063232,7.009917259216309,7.108932018280029,7.176669597625732,7.258562088012695,7.283072471618652,7.2682905197143555,7.449983596801758,7.503559589385986,7.499396800994873,7.602400302886963,7.646372318267822,7.644241809844971,7.724051475524902,7.856373310089111,7.892834186553955,7.839942455291748,7.914665699005127,8.025997161865234,8.0414457321167,8.10303783416748,8.159455299377441,8.160565376281738,8.143898963928223,8.256002426147461,8.304800033569336,8.299396514892578,8.326584815979004,8.410353660583496,8.436344146728516,8.363486289978027,8.423359870910645,8.383238792419434,8.338186264038086,8.435487747192383,8.516936302185059,8.483139991760254,8.473603248596191,8.574670791625977,8.620245933532715,8.575434684753418,8.651394844055176,8.69402027130127,8.647500991821289,8.675481796264648,8.74746322631836,8.766331672668457,8.769566535949707,8.84566879272461,8.844470977783203,8.847880363464355,9.008615493774414,9.12179946899414,9.178938865661621,9.195561408996582,9.233600616455078,9.208327293395996,9.202317237854004,9.198873519897461,9.137495994567871,9.136687278747559,9.155351638793945,9.17106819152832,9.148445129394531,9.1700439453125,9.286998748779297,9.344863891601562,9.279611587524414,9.317774772644043,9.399092674255371,9.368112564086914,9.323208808898926,9.37375259399414,9.340707778930664,9.294225692749023,9.371491432189941,9.368117332458496,9.29748249053955,9.189485549926758,9.217458724975586,9.148468971252441,9.119128227233887,9.178423881530762,9.186973571777344,9.14604377746582,9.146027565002441,9.311675071716309,9.227927207946777,9.178183555603027,9.226654052734375,9.212335586547852,9.103609085083008,9.106518745422363,9.091896057128906,9.01559829711914,8.980655670166016,8.969353675842285,8.827217102050781,8.627891540527344,8.52318000793457,8.418052673339844,8.238724708557129,8.111564636230469,8.123589515686035,8.105668067932129,8.105374336242676,8.237316131591797,8.221443176269531,8.162561416625977,8.196503639221191,8.229442596435547,8.264538764953613,8.243064880371094,8.234109878540039,8.230422019958496,8.24681282043457,8.274539947509766,8.179810523986816,8.04868221282959,7.961480617523193,7.862881183624268,7.730611801147461,7.643701553344727,7.541897296905518,7.3600568771362305,7.223757266998291,7.09981632232666,6.96004056930542,6.80014705657959,6.701701641082764,6.620204925537109,6.562623977661133,6.505311965942383,6.465816020965576,6.380573272705078,6.277210235595703,6.189393043518066,6.1430840492248535,6.101491451263428,6.025010585784912,5.962219715118408,5.896618843078613,5.824513912200928,5.7679524421691895,5.6909260749816895,5.632382392883301,5.572888374328613,5.507882118225098,5.4330949783325195,5.352262020111084,5.288506031036377,5.218142986297607,5.1572136878967285,5.078596591949463,5.035338401794434,4.993286609649658,0.0,0.0,0.0,0.0,0.0,0.0,0.0,0.0,0.0,0.0,0.0,0.0,0.0,0.0,0.0,0.0,0.0,0.0,0.0,0.0,0.0,0.0,0.0,0.0,0.0,0.0,0.0,0.0,0.0,0.0,0.0,0.0,0.0,0.0,0.0,0.0,0.0,0.0,0.0,0.0,0.0,0.0,0.0,0.0,0.0,0.0,0.0,0.0,0.0,0.0,0.0,0.0,0.0,0.0],\"yaxis\":\"y\",\"type\":\"scatter\"},{\"fillpattern\":{\"shape\":\"\"},\"hovertemplate\":\"variable=Gas_BCFD_Drilled Completed Wells<br>production_month_year=%{x}<br>amount of gas (BCFD)=%{y}<extra></extra>\",\"legendgroup\":\"Gas_BCFD_Drilled Completed Wells\",\"line\":{\"color\":\"#FF0000\"},\"marker\":{\"symbol\":\"circle\"},\"mode\":\"lines\",\"name\":\"Gas_BCFD_Drilled Completed Wells\",\"orientation\":\"v\",\"showlegend\":true,\"stackgroup\":\"1\",\"x\":[\"2023-11\",\"2023-12\",\"2024-01\",\"2024-02\",\"2024-03\",\"2024-04\",\"2024-05\",\"2024-06\",\"2024-07\",\"2024-08\",\"2024-09\",\"2024-10\",\"2024-11\",\"2024-12\",\"2025-01\",\"2025-02\",\"2025-03\",\"2025-04\",\"2025-05\",\"2025-06\",\"2025-07\",\"2025-08\",\"2025-09\",\"2025-10\",\"2025-11\",\"2025-12\",\"2026-01\",\"2026-02\",\"2026-03\",\"2026-04\",\"2026-05\",\"2026-06\",\"2026-07\",\"2026-08\",\"2026-09\",\"2026-10\",\"2026-11\",\"2026-12\",\"2027-01\",\"2027-02\",\"2027-03\",\"2027-04\",\"2027-05\",\"2027-06\",\"2027-07\",\"2027-08\",\"2027-09\",\"2027-10\",\"2027-11\",\"2027-12\",\"2028-01\",\"2028-02\",\"2028-03\",\"2028-04\",\"2028-05\",\"2028-06\",\"2028-07\",\"2028-08\",\"2028-09\",\"2028-10\",\"2028-11\",\"2028-12\",\"2029-01\",\"2029-02\",\"2029-03\",\"2029-04\",\"2029-05\",\"2029-06\",\"2029-07\",\"2029-08\",\"2029-09\",\"2029-10\",\"2029-11\",\"2029-12\",\"2030-01\",\"2030-02\",\"2030-03\",\"2030-04\",\"2030-05\",\"2030-06\",\"2030-07\",\"2030-08\",\"2030-09\",\"2030-10\",\"2030-11\",\"2030-12\",\"2031-01\",\"2031-02\",\"2031-03\",\"2031-04\",\"2031-05\",\"2031-06\",\"2031-07\",\"2031-08\",\"2031-09\",\"2031-10\",\"2031-11\",\"2031-12\",\"2032-01\",\"2032-02\",\"2032-03\",\"2032-04\",\"2032-05\",\"2032-06\",\"2032-07\",\"2032-08\",\"2032-09\",\"2032-10\",\"2032-11\",\"2032-12\",\"2033-01\",\"2033-02\",\"2033-03\",\"2033-04\",\"2033-05\",\"2033-06\",\"2033-07\",\"2033-08\",\"2033-09\",\"2033-10\",\"2033-11\",\"2033-12\",\"2034-01\",\"2034-02\",\"2034-03\",\"2034-04\",\"2034-05\",\"2034-06\",\"2034-07\",\"2034-08\",\"2034-09\",\"2034-10\",\"2034-11\",\"2034-12\",\"2035-01\",\"2035-02\",\"2035-03\",\"2035-04\",\"2035-05\",\"2035-06\",\"2035-07\",\"2035-08\",\"2035-09\",\"2035-10\",\"2035-11\",\"2035-12\",\"2036-01\",\"2036-02\",\"2036-03\",\"2036-04\",\"2036-05\",\"2036-06\",\"2036-07\",\"2036-08\",\"2036-09\",\"2036-10\",\"2036-11\",\"2036-12\",\"2037-01\",\"2037-02\",\"2037-03\",\"2037-04\",\"2037-05\",\"2037-06\",\"2037-07\",\"2037-08\",\"2037-09\",\"2037-10\",\"2037-11\",\"2037-12\",\"2038-01\",\"2038-02\",\"2038-03\",\"2038-04\",\"2038-05\",\"2038-06\",\"2038-07\",\"2038-08\",\"2038-09\",\"2038-10\",\"2038-11\",\"2038-12\",\"2039-01\",\"2039-02\",\"2039-03\",\"2039-04\",\"2039-05\",\"2019-05\",\"2019-06\",\"2019-07\",\"2019-08\",\"2019-09\",\"2019-10\",\"2019-11\",\"2019-12\",\"2020-01\",\"2020-02\",\"2020-03\",\"2020-04\",\"2020-05\",\"2020-06\",\"2020-07\",\"2020-08\",\"2020-09\",\"2020-10\",\"2020-11\",\"2020-12\",\"2021-01\",\"2021-02\",\"2021-03\",\"2021-04\",\"2021-05\",\"2021-06\",\"2021-07\",\"2021-08\",\"2021-09\",\"2021-10\",\"2021-11\",\"2021-12\",\"2022-01\",\"2022-02\",\"2022-03\",\"2022-04\",\"2022-05\",\"2022-06\",\"2022-07\",\"2022-08\",\"2022-09\",\"2022-10\",\"2022-11\",\"2022-12\",\"2023-01\",\"2023-02\",\"2023-03\",\"2023-04\",\"2023-05\",\"2023-06\",\"2023-07\",\"2023-08\",\"2023-09\",\"2023-10\"],\"xaxis\":\"x\",\"y\":[0.3225284814834595,0.421842098236084,0.5331155061721802,0.5874308347702026,0.560422956943512,0.5257049798965454,0.5151283740997314,0.5261898040771484,0.5167496800422668,0.5231329798698425,0.5287722945213318,0.544772207736969,0.5511364340782166,0.5584896802902222,0.5681639313697815,0.5717822313308716,0.5741249918937683,0.5854531526565552,0.5978445410728455,0.6159884333610535,0.6340912580490112,0.6499344110488892,0.6674655675888062,0.6789713501930237,0.6871684789657593,0.6932613253593445,0.7005152702331543,0.7143046259880066,0.7277824282646179,0.7412078380584717,0.7478370070457458,0.7489945888519287,0.7606289386749268,0.7771962881088257,0.7884729504585266,0.7878239154815674,0.7761167883872986,0.7583959698677063,0.7430981993675232,0.7245134711265564,0.7049201726913452,0.6960024833679199,0.6978669762611389,0.7055030465126038,0.7281890511512756,0.7477715015411377,0.7631406784057617,0.7661176919937134,0.7774088978767395,0.7985661029815674,0.8116098046302795,0.8206046223640442,0.8402755856513977,0.844473659992218,0.8504437208175659,0.8658853769302368,0.883863627910614,0.9028835892677307,0.908440887928009,0.914749026298523,0.9319917559623718,0.9566560983657837,0.9775999784469604,0.9943621158599854,1.0065268278121948,1.0152689218521118,1.0136027336120605,1.0034101009368896,0.9912731647491455,0.9781925082206726,0.9631147384643555,0.9481438994407654,0.9324738383293152,0.9254683256149292,0.9232031106948853,0.9085839986801147,0.8937296271324158,0.8739096522331238,0.8554075956344604,0.8398030996322632,0.825998842716217,0.803164541721344,0.779017984867096,0.7636918425559998,0.7558664679527283,0.7418960332870483,0.7314087152481079,0.7318249344825745,0.7438622713088989,0.7633654475212097,0.7821407318115234,0.788285493850708,0.7788950800895691,0.8030874133110046,0.8395406007766724,0.8499732613563538,0.8614570498466492,0.8675730228424072,0.8633874654769897,0.8633213639259338,0.8638823628425598,0.8632434606552124,0.8622807860374451,0.860599160194397,0.8579686880111694,0.847575306892395,0.840923011302948,0.8407149910926819,0.8344746828079224,0.8246196508407593,0.8102560043334961,0.8028461933135986,0.7938165664672852,0.7862369418144226,0.7773995399475098,0.7771597504615784,0.7714229226112366,0.7720236778259277,0.7723844051361084,0.7697133421897888,0.7697174549102783,0.765149712562561,0.7730762362480164,0.7739947438240051,0.7724107503890991,0.770310640335083,0.7714321613311768,0.7644549608230591,0.7516993284225464,0.7452294230461121,0.7336373329162598,0.7246391773223877,0.724611759185791,0.7262299060821533,0.7251054644584656,0.725401759147644,0.7268410921096802,0.7300618886947632,0.7253972887992859,0.7214643359184265,0.7175515294075012,0.7164063453674316,0.7141505479812622,0.7208127379417419,0.7253657579421997,0.7317076325416565,0.7412800192832947,0.7479267120361328,0.7296596765518188,0.7153674960136414,0.7079319357872009,0.7077191472053528,0.7046816349029541,0.6986152529716492,0.6945329308509827,0.6863528490066528,0.6826132535934448,0.670598030090332,0.6458698511123657,0.6191304326057434,0.5912842154502869,0.566933274269104,0.5482960343360901,0.5337321162223816,0.5121194124221802,0.4906322956085205,0.47179675102233887,0.4560048282146454,0.4409033954143524,0.42680683732032776,0.41320639848709106,0.3994491696357727,0.3885013163089752,0.3775983154773712,0.36779648065567017,0.3559076189994812,0.3453386425971985,0.33520588278770447,0.32653117179870605,0.3177293539047241,0.30925580859184265,0.30288729071617126,0.296699583530426,0.2912587523460388,0.28451523184776306,0.2756861448287964,0.26935482025146484,0.0,0.0,0.0,0.0,0.0,0.0,0.0,0.0,0.0,0.0,0.0,0.0,0.0,0.0,0.0,0.0,0.0,0.0,0.0,0.0,0.0,0.0,0.0,0.0,0.0,0.0,0.0,0.0,0.0,0.0,0.0,0.0,0.0,0.0,0.0,0.0,0.0,0.0,0.0,0.0,0.0,0.0,0.010438901372253895,0.024192331358790398,0.02302267588675022,0.021770574152469635,0.02035735361278057,0.018629590049386024,0.01721516251564026,0.01579766720533371,0.014825938269495964,0.028392598032951355,0.09609584510326385,0.23102954030036926],\"yaxis\":\"y\",\"type\":\"scatter\"}],                        {\"template\":{\"data\":{\"barpolar\":[{\"marker\":{\"line\":{\"color\":\"rgb(17,17,17)\",\"width\":0.5},\"pattern\":{\"fillmode\":\"overlay\",\"size\":10,\"solidity\":0.2}},\"type\":\"barpolar\"}],\"bar\":[{\"error_x\":{\"color\":\"#f2f5fa\"},\"error_y\":{\"color\":\"#f2f5fa\"},\"marker\":{\"line\":{\"color\":\"rgb(17,17,17)\",\"width\":0.5},\"pattern\":{\"fillmode\":\"overlay\",\"size\":10,\"solidity\":0.2}},\"type\":\"bar\"}],\"carpet\":[{\"aaxis\":{\"endlinecolor\":\"#A2B1C6\",\"gridcolor\":\"#506784\",\"linecolor\":\"#506784\",\"minorgridcolor\":\"#506784\",\"startlinecolor\":\"#A2B1C6\"},\"baxis\":{\"endlinecolor\":\"#A2B1C6\",\"gridcolor\":\"#506784\",\"linecolor\":\"#506784\",\"minorgridcolor\":\"#506784\",\"startlinecolor\":\"#A2B1C6\"},\"type\":\"carpet\"}],\"choropleth\":[{\"colorbar\":{\"outlinewidth\":0,\"ticks\":\"\"},\"type\":\"choropleth\"}],\"contourcarpet\":[{\"colorbar\":{\"outlinewidth\":0,\"ticks\":\"\"},\"type\":\"contourcarpet\"}],\"contour\":[{\"colorbar\":{\"outlinewidth\":0,\"ticks\":\"\"},\"colorscale\":[[0.0,\"#0d0887\"],[0.1111111111111111,\"#46039f\"],[0.2222222222222222,\"#7201a8\"],[0.3333333333333333,\"#9c179e\"],[0.4444444444444444,\"#bd3786\"],[0.5555555555555556,\"#d8576b\"],[0.6666666666666666,\"#ed7953\"],[0.7777777777777778,\"#fb9f3a\"],[0.8888888888888888,\"#fdca26\"],[1.0,\"#f0f921\"]],\"type\":\"contour\"}],\"heatmapgl\":[{\"colorbar\":{\"outlinewidth\":0,\"ticks\":\"\"},\"colorscale\":[[0.0,\"#0d0887\"],[0.1111111111111111,\"#46039f\"],[0.2222222222222222,\"#7201a8\"],[0.3333333333333333,\"#9c179e\"],[0.4444444444444444,\"#bd3786\"],[0.5555555555555556,\"#d8576b\"],[0.6666666666666666,\"#ed7953\"],[0.7777777777777778,\"#fb9f3a\"],[0.8888888888888888,\"#fdca26\"],[1.0,\"#f0f921\"]],\"type\":\"heatmapgl\"}],\"heatmap\":[{\"colorbar\":{\"outlinewidth\":0,\"ticks\":\"\"},\"colorscale\":[[0.0,\"#0d0887\"],[0.1111111111111111,\"#46039f\"],[0.2222222222222222,\"#7201a8\"],[0.3333333333333333,\"#9c179e\"],[0.4444444444444444,\"#bd3786\"],[0.5555555555555556,\"#d8576b\"],[0.6666666666666666,\"#ed7953\"],[0.7777777777777778,\"#fb9f3a\"],[0.8888888888888888,\"#fdca26\"],[1.0,\"#f0f921\"]],\"type\":\"heatmap\"}],\"histogram2dcontour\":[{\"colorbar\":{\"outlinewidth\":0,\"ticks\":\"\"},\"colorscale\":[[0.0,\"#0d0887\"],[0.1111111111111111,\"#46039f\"],[0.2222222222222222,\"#7201a8\"],[0.3333333333333333,\"#9c179e\"],[0.4444444444444444,\"#bd3786\"],[0.5555555555555556,\"#d8576b\"],[0.6666666666666666,\"#ed7953\"],[0.7777777777777778,\"#fb9f3a\"],[0.8888888888888888,\"#fdca26\"],[1.0,\"#f0f921\"]],\"type\":\"histogram2dcontour\"}],\"histogram2d\":[{\"colorbar\":{\"outlinewidth\":0,\"ticks\":\"\"},\"colorscale\":[[0.0,\"#0d0887\"],[0.1111111111111111,\"#46039f\"],[0.2222222222222222,\"#7201a8\"],[0.3333333333333333,\"#9c179e\"],[0.4444444444444444,\"#bd3786\"],[0.5555555555555556,\"#d8576b\"],[0.6666666666666666,\"#ed7953\"],[0.7777777777777778,\"#fb9f3a\"],[0.8888888888888888,\"#fdca26\"],[1.0,\"#f0f921\"]],\"type\":\"histogram2d\"}],\"histogram\":[{\"marker\":{\"pattern\":{\"fillmode\":\"overlay\",\"size\":10,\"solidity\":0.2}},\"type\":\"histogram\"}],\"mesh3d\":[{\"colorbar\":{\"outlinewidth\":0,\"ticks\":\"\"},\"type\":\"mesh3d\"}],\"parcoords\":[{\"line\":{\"colorbar\":{\"outlinewidth\":0,\"ticks\":\"\"}},\"type\":\"parcoords\"}],\"pie\":[{\"automargin\":true,\"type\":\"pie\"}],\"scatter3d\":[{\"line\":{\"colorbar\":{\"outlinewidth\":0,\"ticks\":\"\"}},\"marker\":{\"colorbar\":{\"outlinewidth\":0,\"ticks\":\"\"}},\"type\":\"scatter3d\"}],\"scattercarpet\":[{\"marker\":{\"colorbar\":{\"outlinewidth\":0,\"ticks\":\"\"}},\"type\":\"scattercarpet\"}],\"scattergeo\":[{\"marker\":{\"colorbar\":{\"outlinewidth\":0,\"ticks\":\"\"}},\"type\":\"scattergeo\"}],\"scattergl\":[{\"marker\":{\"line\":{\"color\":\"#283442\"}},\"type\":\"scattergl\"}],\"scattermapbox\":[{\"marker\":{\"colorbar\":{\"outlinewidth\":0,\"ticks\":\"\"}},\"type\":\"scattermapbox\"}],\"scatterpolargl\":[{\"marker\":{\"colorbar\":{\"outlinewidth\":0,\"ticks\":\"\"}},\"type\":\"scatterpolargl\"}],\"scatterpolar\":[{\"marker\":{\"colorbar\":{\"outlinewidth\":0,\"ticks\":\"\"}},\"type\":\"scatterpolar\"}],\"scatter\":[{\"marker\":{\"line\":{\"color\":\"#283442\"}},\"type\":\"scatter\"}],\"scatterternary\":[{\"marker\":{\"colorbar\":{\"outlinewidth\":0,\"ticks\":\"\"}},\"type\":\"scatterternary\"}],\"surface\":[{\"colorbar\":{\"outlinewidth\":0,\"ticks\":\"\"},\"colorscale\":[[0.0,\"#0d0887\"],[0.1111111111111111,\"#46039f\"],[0.2222222222222222,\"#7201a8\"],[0.3333333333333333,\"#9c179e\"],[0.4444444444444444,\"#bd3786\"],[0.5555555555555556,\"#d8576b\"],[0.6666666666666666,\"#ed7953\"],[0.7777777777777778,\"#fb9f3a\"],[0.8888888888888888,\"#fdca26\"],[1.0,\"#f0f921\"]],\"type\":\"surface\"}],\"table\":[{\"cells\":{\"fill\":{\"color\":\"#506784\"},\"line\":{\"color\":\"rgb(17,17,17)\"}},\"header\":{\"fill\":{\"color\":\"#2a3f5f\"},\"line\":{\"color\":\"rgb(17,17,17)\"}},\"type\":\"table\"}]},\"layout\":{\"annotationdefaults\":{\"arrowcolor\":\"#f2f5fa\",\"arrowhead\":0,\"arrowwidth\":1},\"autotypenumbers\":\"strict\",\"coloraxis\":{\"colorbar\":{\"outlinewidth\":0,\"ticks\":\"\"}},\"colorscale\":{\"diverging\":[[0,\"#8e0152\"],[0.1,\"#c51b7d\"],[0.2,\"#de77ae\"],[0.3,\"#f1b6da\"],[0.4,\"#fde0ef\"],[0.5,\"#f7f7f7\"],[0.6,\"#e6f5d0\"],[0.7,\"#b8e186\"],[0.8,\"#7fbc41\"],[0.9,\"#4d9221\"],[1,\"#276419\"]],\"sequential\":[[0.0,\"#0d0887\"],[0.1111111111111111,\"#46039f\"],[0.2222222222222222,\"#7201a8\"],[0.3333333333333333,\"#9c179e\"],[0.4444444444444444,\"#bd3786\"],[0.5555555555555556,\"#d8576b\"],[0.6666666666666666,\"#ed7953\"],[0.7777777777777778,\"#fb9f3a\"],[0.8888888888888888,\"#fdca26\"],[1.0,\"#f0f921\"]],\"sequentialminus\":[[0.0,\"#0d0887\"],[0.1111111111111111,\"#46039f\"],[0.2222222222222222,\"#7201a8\"],[0.3333333333333333,\"#9c179e\"],[0.4444444444444444,\"#bd3786\"],[0.5555555555555556,\"#d8576b\"],[0.6666666666666666,\"#ed7953\"],[0.7777777777777778,\"#fb9f3a\"],[0.8888888888888888,\"#fdca26\"],[1.0,\"#f0f921\"]]},\"colorway\":[\"#636efa\",\"#EF553B\",\"#00cc96\",\"#ab63fa\",\"#FFA15A\",\"#19d3f3\",\"#FF6692\",\"#B6E880\",\"#FF97FF\",\"#FECB52\"],\"font\":{\"color\":\"#f2f5fa\"},\"geo\":{\"bgcolor\":\"rgb(17,17,17)\",\"lakecolor\":\"rgb(17,17,17)\",\"landcolor\":\"rgb(17,17,17)\",\"showlakes\":true,\"showland\":true,\"subunitcolor\":\"#506784\"},\"hoverlabel\":{\"align\":\"left\"},\"hovermode\":\"closest\",\"mapbox\":{\"style\":\"dark\"},\"paper_bgcolor\":\"rgb(17,17,17)\",\"plot_bgcolor\":\"rgb(17,17,17)\",\"polar\":{\"angularaxis\":{\"gridcolor\":\"#506784\",\"linecolor\":\"#506784\",\"ticks\":\"\"},\"bgcolor\":\"rgb(17,17,17)\",\"radialaxis\":{\"gridcolor\":\"#506784\",\"linecolor\":\"#506784\",\"ticks\":\"\"}},\"scene\":{\"xaxis\":{\"backgroundcolor\":\"rgb(17,17,17)\",\"gridcolor\":\"#506784\",\"gridwidth\":2,\"linecolor\":\"#506784\",\"showbackground\":true,\"ticks\":\"\",\"zerolinecolor\":\"#C8D4E3\"},\"yaxis\":{\"backgroundcolor\":\"rgb(17,17,17)\",\"gridcolor\":\"#506784\",\"gridwidth\":2,\"linecolor\":\"#506784\",\"showbackground\":true,\"ticks\":\"\",\"zerolinecolor\":\"#C8D4E3\"},\"zaxis\":{\"backgroundcolor\":\"rgb(17,17,17)\",\"gridcolor\":\"#506784\",\"gridwidth\":2,\"linecolor\":\"#506784\",\"showbackground\":true,\"ticks\":\"\",\"zerolinecolor\":\"#C8D4E3\"}},\"shapedefaults\":{\"line\":{\"color\":\"#f2f5fa\"}},\"sliderdefaults\":{\"bgcolor\":\"#C8D4E3\",\"bordercolor\":\"rgb(17,17,17)\",\"borderwidth\":1,\"tickwidth\":0},\"ternary\":{\"aaxis\":{\"gridcolor\":\"#506784\",\"linecolor\":\"#506784\",\"ticks\":\"\"},\"baxis\":{\"gridcolor\":\"#506784\",\"linecolor\":\"#506784\",\"ticks\":\"\"},\"bgcolor\":\"rgb(17,17,17)\",\"caxis\":{\"gridcolor\":\"#506784\",\"linecolor\":\"#506784\",\"ticks\":\"\"}},\"title\":{\"x\":0.05},\"updatemenudefaults\":{\"bgcolor\":\"#506784\",\"borderwidth\":0},\"xaxis\":{\"automargin\":true,\"gridcolor\":\"#283442\",\"linecolor\":\"#506784\",\"ticks\":\"\",\"title\":{\"standoff\":15},\"zerolinecolor\":\"#283442\",\"zerolinewidth\":2},\"yaxis\":{\"automargin\":true,\"gridcolor\":\"#283442\",\"linecolor\":\"#506784\",\"ticks\":\"\",\"title\":{\"standoff\":15},\"zerolinecolor\":\"#283442\",\"zerolinewidth\":2}}},\"xaxis\":{\"anchor\":\"y\",\"domain\":[0.0,1.0],\"title\":{\"text\":\"Time\"}},\"yaxis\":{\"anchor\":\"x\",\"domain\":[0.0,1.0],\"title\":{\"text\":\"amount of gas (BCFD)\"}},\"legend\":{\"title\":{\"text\":\"variable\"},\"tracegroupgap\":0},\"title\":{\"text\":\"Stacked Plot of Gas for all wells status\"}},                        {\"responsive\": true}                    )                };                            </script>        </div>\n",
       "</body>\n",
       "</html>"
      ]
     },
     "metadata": {},
     "output_type": "display_data"
    }
   ],
   "source": [
    "Stacked_plot_production_data_for_all_wells('2019-01-01', '2040-12-31', final_df, reservoir=\"HAYNESVILLE\")"
   ]
  },
  {
   "cell_type": "code",
   "execution_count": 0,
   "metadata": {
    "application/vnd.databricks.v1+cell": {
     "cellMetadata": {
      "byteLimit": 2048000,
      "rowLimit": 10000
     },
     "inputWidgets": {},
     "nuid": "6b45755d-3e47-4fc8-b450-72c98d3f4abf",
     "showTitle": false,
     "title": ""
    }
   },
   "outputs": [
    {
     "output_type": "display_data",
     "data": {
      "text/html": [
       "<html>\n",
       "<head><meta charset=\"utf-8\" /></head>\n",
       "<body>\n",
       "    <div>            <script src=\"https://cdnjs.cloudflare.com/ajax/libs/mathjax/2.7.5/MathJax.js?config=TeX-AMS-MML_SVG\"></script><script type=\"text/javascript\">if (window.MathJax && window.MathJax.Hub && window.MathJax.Hub.Config) {window.MathJax.Hub.Config({SVG: {font: \"STIX-Web\"}});}</script>                <script type=\"text/javascript\">window.PlotlyConfig = {MathJaxConfig: 'local'};</script>\n",
       "        <script src=\"https://cdn.plot.ly/plotly-2.12.1.min.js\"></script>                <div id=\"284b55a2-ed14-4b9c-9440-5e6d909a7a85\" class=\"plotly-graph-div\" style=\"height:100%; width:100%;\"></div>            <script type=\"text/javascript\">                                    window.PLOTLYENV=window.PLOTLYENV || {};                                    if (document.getElementById(\"284b55a2-ed14-4b9c-9440-5e6d909a7a85\")) {                    Plotly.newPlot(                        \"284b55a2-ed14-4b9c-9440-5e6d909a7a85\",                        [{\"fillpattern\":{\"shape\":\"\"},\"hovertemplate\":\"variable=entityID_PDP Wells<br>production_month_year=%{x}<br>number of wells=%{y}<extra></extra>\",\"legendgroup\":\"entityID_PDP Wells\",\"line\":{\"color\":\"#FFA500\"},\"marker\":{\"symbol\":\"circle\"},\"mode\":\"lines\",\"name\":\"entityID_PDP Wells\",\"orientation\":\"v\",\"showlegend\":true,\"stackgroup\":\"1\",\"x\":[\"2023-11\",\"2023-12\",\"2024-03\",\"2024-02\",\"2024-04\",\"2024-05\",\"2024-06\",\"2024-07\",\"2024-08\",\"2024-09\",\"2024-10\",\"2024-11\",\"2024-12\",\"2025-01\",\"2025-02\",\"2025-03\",\"2025-04\",\"2025-05\",\"2025-06\",\"2025-07\",\"2025-08\",\"2025-09\",\"2025-10\",\"2025-11\",\"2025-12\",\"2026-01\",\"2026-02\",\"2026-03\",\"2026-04\",\"2026-05\",\"2026-06\",\"2026-07\",\"2026-08\",\"2026-09\",\"2026-10\",\"2026-11\",\"2026-12\",\"2027-01\",\"2027-02\",\"2027-03\",\"2027-04\",\"2027-05\",\"2027-06\",\"2027-07\",\"2027-08\",\"2027-09\",\"2027-10\",\"2027-11\",\"2027-12\",\"2028-01\",\"2028-02\",\"2028-03\",\"2028-04\",\"2028-05\",\"2028-06\",\"2028-07\",\"2028-08\",\"2028-09\",\"2028-10\",\"2028-11\",\"2028-12\",\"2029-01\",\"2029-02\",\"2029-03\",\"2029-04\",\"2029-05\",\"2029-06\",\"2029-07\",\"2029-08\",\"2029-09\",\"2029-10\",\"2029-11\",\"2029-12\",\"2030-01\",\"2030-02\",\"2030-03\",\"2030-04\",\"2030-05\",\"2030-06\",\"2030-07\",\"2030-08\",\"2030-09\",\"2030-10\",\"2030-11\",\"2030-12\",\"2031-01\",\"2031-02\",\"2031-03\",\"2031-04\",\"2031-05\",\"2031-06\",\"2031-07\",\"2031-08\",\"2031-09\",\"2031-10\",\"2031-11\",\"2031-12\",\"2032-01\",\"2032-02\",\"2032-03\",\"2032-04\",\"2032-05\",\"2032-06\",\"2032-07\",\"2032-08\",\"2032-09\",\"2032-10\",\"2032-11\",\"2032-12\",\"2033-01\",\"2033-02\",\"2033-03\",\"2033-04\",\"2033-05\",\"2033-06\",\"2033-07\",\"2033-08\",\"2033-09\",\"2033-10\",\"2033-11\",\"2033-12\",\"2034-01\",\"2034-02\",\"2034-03\",\"2034-04\",\"2034-05\",\"2034-06\",\"2034-07\",\"2034-08\",\"2034-09\",\"2034-10\",\"2034-11\",\"2034-12\",\"2035-01\",\"2035-02\",\"2035-03\",\"2035-04\",\"2035-05\",\"2035-06\",\"2035-07\",\"2035-08\",\"2035-09\",\"2035-10\",\"2035-11\",\"2035-12\",\"2036-01\",\"2036-02\",\"2036-03\",\"2036-04\",\"2036-05\",\"2036-06\",\"2036-07\",\"2036-08\",\"2036-09\",\"2036-10\",\"2036-11\",\"2036-12\",\"2037-01\",\"2037-02\",\"2037-03\",\"2037-04\",\"2037-05\",\"2037-06\",\"2037-07\",\"2037-08\",\"2037-09\",\"2037-10\",\"2037-11\",\"2037-12\",\"2038-01\",\"2038-02\",\"2038-03\",\"2038-04\",\"2038-05\",\"2038-06\",\"2038-07\",\"2038-08\",\"2038-09\",\"2038-10\",\"2038-11\",\"2038-12\",\"2039-01\",\"2039-02\",\"2039-03\",\"2039-04\",\"2039-05\",\"2019-06\",\"2019-07\",\"2019-08\",\"2019-09\",\"2019-10\",\"2019-11\",\"2019-12\",\"2020-01\",\"2020-02\",\"2020-03\",\"2020-04\",\"2020-05\",\"2020-06\",\"2020-07\",\"2020-08\",\"2020-09\",\"2020-10\",\"2020-11\",\"2020-12\",\"2021-01\",\"2021-02\",\"2021-03\",\"2021-04\",\"2021-05\",\"2021-06\",\"2021-07\",\"2021-08\",\"2021-09\",\"2021-10\",\"2021-11\",\"2021-12\",\"2022-01\",\"2022-02\",\"2022-03\",\"2022-04\",\"2022-05\",\"2022-06\",\"2022-07\",\"2022-08\",\"2022-09\",\"2022-10\",\"2022-11\",\"2022-12\",\"2023-01\",\"2023-02\",\"2023-03\",\"2023-04\",\"2023-05\",\"2023-06\",\"2023-07\",\"2023-08\",\"2023-09\",\"2023-10\",\"2024-01\"],\"xaxis\":\"x\",\"y\":[17.0,12.0,0.0,17.0,0.0,0.0,0.0,0.0,0.0,0.0,0.0,0.0,0.0,0.0,0.0,0.0,0.0,0.0,0.0,0.0,0.0,0.0,0.0,0.0,0.0,0.0,0.0,0.0,0.0,0.0,0.0,0.0,0.0,0.0,0.0,0.0,0.0,0.0,0.0,0.0,0.0,0.0,0.0,0.0,0.0,0.0,0.0,0.0,0.0,0.0,0.0,0.0,0.0,0.0,0.0,0.0,0.0,0.0,0.0,0.0,0.0,0.0,0.0,0.0,0.0,0.0,0.0,0.0,0.0,0.0,0.0,0.0,0.0,0.0,0.0,0.0,0.0,0.0,0.0,0.0,0.0,0.0,0.0,0.0,0.0,0.0,0.0,0.0,0.0,0.0,0.0,0.0,0.0,0.0,0.0,0.0,0.0,0.0,0.0,0.0,0.0,0.0,0.0,0.0,0.0,0.0,0.0,0.0,0.0,0.0,0.0,0.0,0.0,0.0,0.0,0.0,0.0,0.0,0.0,0.0,0.0,0.0,0.0,0.0,0.0,0.0,0.0,0.0,0.0,0.0,0.0,0.0,0.0,0.0,0.0,0.0,0.0,0.0,0.0,0.0,0.0,0.0,0.0,0.0,0.0,0.0,0.0,0.0,0.0,0.0,0.0,0.0,0.0,0.0,0.0,0.0,0.0,0.0,0.0,0.0,0.0,0.0,0.0,0.0,0.0,0.0,0.0,0.0,0.0,0.0,0.0,0.0,0.0,0.0,0.0,0.0,0.0,0.0,0.0,0.0,0.0,0.0,0.0,0.0,0.0,0.0,26.0,33.0,18.0,29.0,26.0,32.0,14.0,8.0,40.0,29.0,40.0,27.0,8.0,21.0,29.0,32.0,23.0,32.0,41.0,14.0,31.0,29.0,27.0,27.0,38.0,36.0,38.0,34.0,42.0,44.0,33.0,29.0,32.0,42.0,38.0,21.0,42.0,31.0,49.0,46.0,40.0,44.0,31.0,44.0,51.0,54.0,50.0,26.0,44.0,28.0,37.0,14.0,34.0,30.0],\"yaxis\":\"y\",\"type\":\"scatter\"},{\"fillpattern\":{\"shape\":\"\"},\"hovertemplate\":\"variable=entityID_New Wells<br>production_month_year=%{x}<br>number of wells=%{y}<extra></extra>\",\"legendgroup\":\"entityID_New Wells\",\"line\":{\"color\":\"#33CC33\"},\"marker\":{\"symbol\":\"circle\"},\"mode\":\"lines\",\"name\":\"entityID_New Wells\",\"orientation\":\"v\",\"showlegend\":true,\"stackgroup\":\"1\",\"x\":[\"2023-11\",\"2023-12\",\"2024-03\",\"2024-02\",\"2024-04\",\"2024-05\",\"2024-06\",\"2024-07\",\"2024-08\",\"2024-09\",\"2024-10\",\"2024-11\",\"2024-12\",\"2025-01\",\"2025-02\",\"2025-03\",\"2025-04\",\"2025-05\",\"2025-06\",\"2025-07\",\"2025-08\",\"2025-09\",\"2025-10\",\"2025-11\",\"2025-12\",\"2026-01\",\"2026-02\",\"2026-03\",\"2026-04\",\"2026-05\",\"2026-06\",\"2026-07\",\"2026-08\",\"2026-09\",\"2026-10\",\"2026-11\",\"2026-12\",\"2027-01\",\"2027-02\",\"2027-03\",\"2027-04\",\"2027-05\",\"2027-06\",\"2027-07\",\"2027-08\",\"2027-09\",\"2027-10\",\"2027-11\",\"2027-12\",\"2028-01\",\"2028-02\",\"2028-03\",\"2028-04\",\"2028-05\",\"2028-06\",\"2028-07\",\"2028-08\",\"2028-09\",\"2028-10\",\"2028-11\",\"2028-12\",\"2029-01\",\"2029-02\",\"2029-03\",\"2029-04\",\"2029-05\",\"2029-06\",\"2029-07\",\"2029-08\",\"2029-09\",\"2029-10\",\"2029-11\",\"2029-12\",\"2030-01\",\"2030-02\",\"2030-03\",\"2030-04\",\"2030-05\",\"2030-06\",\"2030-07\",\"2030-08\",\"2030-09\",\"2030-10\",\"2030-11\",\"2030-12\",\"2031-01\",\"2031-02\",\"2031-03\",\"2031-04\",\"2031-05\",\"2031-06\",\"2031-07\",\"2031-08\",\"2031-09\",\"2031-10\",\"2031-11\",\"2031-12\",\"2032-01\",\"2032-02\",\"2032-03\",\"2032-04\",\"2032-05\",\"2032-06\",\"2032-07\",\"2032-08\",\"2032-09\",\"2032-10\",\"2032-11\",\"2032-12\",\"2033-01\",\"2033-02\",\"2033-03\",\"2033-04\",\"2033-05\",\"2033-06\",\"2033-07\",\"2033-08\",\"2033-09\",\"2033-10\",\"2033-11\",\"2033-12\",\"2034-01\",\"2034-02\",\"2034-03\",\"2034-04\",\"2034-05\",\"2034-06\",\"2034-07\",\"2034-08\",\"2034-09\",\"2034-10\",\"2034-11\",\"2034-12\",\"2035-01\",\"2035-02\",\"2035-03\",\"2035-04\",\"2035-05\",\"2035-06\",\"2035-07\",\"2035-08\",\"2035-09\",\"2035-10\",\"2035-11\",\"2035-12\",\"2036-01\",\"2036-02\",\"2036-03\",\"2036-04\",\"2036-05\",\"2036-06\",\"2036-07\",\"2036-08\",\"2036-09\",\"2036-10\",\"2036-11\",\"2036-12\",\"2037-01\",\"2037-02\",\"2037-03\",\"2037-04\",\"2037-05\",\"2037-06\",\"2037-07\",\"2037-08\",\"2037-09\",\"2037-10\",\"2037-11\",\"2037-12\",\"2038-01\",\"2038-02\",\"2038-03\",\"2038-04\",\"2038-05\",\"2038-06\",\"2038-07\",\"2038-08\",\"2038-09\",\"2038-10\",\"2038-11\",\"2038-12\",\"2039-01\",\"2039-02\",\"2039-03\",\"2039-04\",\"2039-05\",\"2019-06\",\"2019-07\",\"2019-08\",\"2019-09\",\"2019-10\",\"2019-11\",\"2019-12\",\"2020-01\",\"2020-02\",\"2020-03\",\"2020-04\",\"2020-05\",\"2020-06\",\"2020-07\",\"2020-08\",\"2020-09\",\"2020-10\",\"2020-11\",\"2020-12\",\"2021-01\",\"2021-02\",\"2021-03\",\"2021-04\",\"2021-05\",\"2021-06\",\"2021-07\",\"2021-08\",\"2021-09\",\"2021-10\",\"2021-11\",\"2021-12\",\"2022-01\",\"2022-02\",\"2022-03\",\"2022-04\",\"2022-05\",\"2022-06\",\"2022-07\",\"2022-08\",\"2022-09\",\"2022-10\",\"2022-11\",\"2022-12\",\"2023-01\",\"2023-02\",\"2023-03\",\"2023-04\",\"2023-05\",\"2023-06\",\"2023-07\",\"2023-08\",\"2023-09\",\"2023-10\",\"2024-01\"],\"xaxis\":\"x\",\"y\":[2.0,4.0,1.0,0.0,0.0,0.0,0.0,0.0,0.0,0.0,0.0,0.0,0.0,0.0,0.0,0.0,0.0,0.0,0.0,0.0,0.0,0.0,0.0,0.0,0.0,0.0,0.0,0.0,0.0,0.0,0.0,0.0,0.0,0.0,0.0,0.0,0.0,0.0,0.0,0.0,0.0,0.0,0.0,0.0,0.0,0.0,0.0,0.0,0.0,0.0,0.0,0.0,0.0,0.0,0.0,0.0,0.0,0.0,0.0,0.0,0.0,0.0,0.0,0.0,0.0,0.0,0.0,0.0,0.0,0.0,0.0,0.0,0.0,0.0,0.0,0.0,0.0,0.0,0.0,0.0,0.0,0.0,0.0,0.0,0.0,0.0,0.0,0.0,0.0,0.0,0.0,0.0,0.0,0.0,0.0,0.0,0.0,0.0,0.0,0.0,0.0,0.0,0.0,0.0,0.0,0.0,0.0,0.0,0.0,0.0,0.0,0.0,0.0,0.0,0.0,0.0,0.0,0.0,0.0,0.0,0.0,0.0,0.0,0.0,0.0,0.0,0.0,0.0,0.0,0.0,0.0,0.0,0.0,0.0,0.0,0.0,0.0,0.0,0.0,0.0,0.0,0.0,0.0,0.0,0.0,0.0,0.0,0.0,0.0,0.0,0.0,0.0,0.0,0.0,0.0,0.0,0.0,0.0,0.0,0.0,0.0,0.0,0.0,0.0,0.0,0.0,0.0,0.0,0.0,0.0,0.0,0.0,0.0,0.0,0.0,0.0,0.0,0.0,0.0,0.0,0.0,0.0,0.0,0.0,0.0,0.0,0.0,0.0,0.0,0.0,0.0,0.0,0.0,0.0,0.0,0.0,0.0,0.0,0.0,0.0,0.0,0.0,0.0,0.0,0.0,0.0,0.0,0.0,0.0,0.0,0.0,0.0,0.0,0.0,0.0,0.0,0.0,0.0,0.0,0.0,0.0,0.0,0.0,0.0,0.0,0.0,0.0,0.0,0.0,0.0,0.0,0.0,0.0,0.0,0.0,0.0,0.0,0.0,0.0,0.0],\"yaxis\":\"y\",\"type\":\"scatter\"},{\"fillpattern\":{\"shape\":\"\"},\"hovertemplate\":\"variable=entityID_Wip Wells<br>production_month_year=%{x}<br>number of wells=%{y}<extra></extra>\",\"legendgroup\":\"entityID_Wip Wells\",\"line\":{\"color\":\"#0000FF\"},\"marker\":{\"symbol\":\"circle\"},\"mode\":\"lines\",\"name\":\"entityID_Wip Wells\",\"orientation\":\"v\",\"showlegend\":true,\"stackgroup\":\"1\",\"x\":[\"2023-11\",\"2023-12\",\"2024-03\",\"2024-02\",\"2024-04\",\"2024-05\",\"2024-06\",\"2024-07\",\"2024-08\",\"2024-09\",\"2024-10\",\"2024-11\",\"2024-12\",\"2025-01\",\"2025-02\",\"2025-03\",\"2025-04\",\"2025-05\",\"2025-06\",\"2025-07\",\"2025-08\",\"2025-09\",\"2025-10\",\"2025-11\",\"2025-12\",\"2026-01\",\"2026-02\",\"2026-03\",\"2026-04\",\"2026-05\",\"2026-06\",\"2026-07\",\"2026-08\",\"2026-09\",\"2026-10\",\"2026-11\",\"2026-12\",\"2027-01\",\"2027-02\",\"2027-03\",\"2027-04\",\"2027-05\",\"2027-06\",\"2027-07\",\"2027-08\",\"2027-09\",\"2027-10\",\"2027-11\",\"2027-12\",\"2028-01\",\"2028-02\",\"2028-03\",\"2028-04\",\"2028-05\",\"2028-06\",\"2028-07\",\"2028-08\",\"2028-09\",\"2028-10\",\"2028-11\",\"2028-12\",\"2029-01\",\"2029-02\",\"2029-03\",\"2029-04\",\"2029-05\",\"2029-06\",\"2029-07\",\"2029-08\",\"2029-09\",\"2029-10\",\"2029-11\",\"2029-12\",\"2030-01\",\"2030-02\",\"2030-03\",\"2030-04\",\"2030-05\",\"2030-06\",\"2030-07\",\"2030-08\",\"2030-09\",\"2030-10\",\"2030-11\",\"2030-12\",\"2031-01\",\"2031-02\",\"2031-03\",\"2031-04\",\"2031-05\",\"2031-06\",\"2031-07\",\"2031-08\",\"2031-09\",\"2031-10\",\"2031-11\",\"2031-12\",\"2032-01\",\"2032-02\",\"2032-03\",\"2032-04\",\"2032-05\",\"2032-06\",\"2032-07\",\"2032-08\",\"2032-09\",\"2032-10\",\"2032-11\",\"2032-12\",\"2033-01\",\"2033-02\",\"2033-03\",\"2033-04\",\"2033-05\",\"2033-06\",\"2033-07\",\"2033-08\",\"2033-09\",\"2033-10\",\"2033-11\",\"2033-12\",\"2034-01\",\"2034-02\",\"2034-03\",\"2034-04\",\"2034-05\",\"2034-06\",\"2034-07\",\"2034-08\",\"2034-09\",\"2034-10\",\"2034-11\",\"2034-12\",\"2035-01\",\"2035-02\",\"2035-03\",\"2035-04\",\"2035-05\",\"2035-06\",\"2035-07\",\"2035-08\",\"2035-09\",\"2035-10\",\"2035-11\",\"2035-12\",\"2036-01\",\"2036-02\",\"2036-03\",\"2036-04\",\"2036-05\",\"2036-06\",\"2036-07\",\"2036-08\",\"2036-09\",\"2036-10\",\"2036-11\",\"2036-12\",\"2037-01\",\"2037-02\",\"2037-03\",\"2037-04\",\"2037-05\",\"2037-06\",\"2037-07\",\"2037-08\",\"2037-09\",\"2037-10\",\"2037-11\",\"2037-12\",\"2038-01\",\"2038-02\",\"2038-03\",\"2038-04\",\"2038-05\",\"2038-06\",\"2038-07\",\"2038-08\",\"2038-09\",\"2038-10\",\"2038-11\",\"2038-12\",\"2039-01\",\"2039-02\",\"2039-03\",\"2039-04\",\"2039-05\",\"2019-06\",\"2019-07\",\"2019-08\",\"2019-09\",\"2019-10\",\"2019-11\",\"2019-12\",\"2020-01\",\"2020-02\",\"2020-03\",\"2020-04\",\"2020-05\",\"2020-06\",\"2020-07\",\"2020-08\",\"2020-09\",\"2020-10\",\"2020-11\",\"2020-12\",\"2021-01\",\"2021-02\",\"2021-03\",\"2021-04\",\"2021-05\",\"2021-06\",\"2021-07\",\"2021-08\",\"2021-09\",\"2021-10\",\"2021-11\",\"2021-12\",\"2022-01\",\"2022-02\",\"2022-03\",\"2022-04\",\"2022-05\",\"2022-06\",\"2022-07\",\"2022-08\",\"2022-09\",\"2022-10\",\"2022-11\",\"2022-12\",\"2023-01\",\"2023-02\",\"2023-03\",\"2023-04\",\"2023-05\",\"2023-06\",\"2023-07\",\"2023-08\",\"2023-09\",\"2023-10\",\"2024-01\"],\"xaxis\":\"x\",\"y\":[39.0,2.0,7.0,4.0,5.0,0.0,0.0,0.0,0.0,0.0,0.0,0.0,0.0,0.0,0.0,0.0,0.0,0.0,0.0,0.0,0.0,0.0,0.0,0.0,0.0,0.0,0.0,0.0,0.0,0.0,0.0,0.0,0.0,0.0,0.0,0.0,0.0,0.0,0.0,0.0,0.0,0.0,0.0,0.0,0.0,0.0,0.0,0.0,0.0,0.0,0.0,0.0,0.0,0.0,0.0,0.0,0.0,0.0,0.0,0.0,0.0,0.0,0.0,0.0,0.0,0.0,0.0,0.0,0.0,0.0,0.0,0.0,0.0,0.0,0.0,0.0,0.0,0.0,0.0,0.0,0.0,0.0,0.0,0.0,0.0,0.0,0.0,0.0,0.0,0.0,0.0,0.0,0.0,0.0,0.0,0.0,0.0,0.0,0.0,0.0,0.0,0.0,0.0,0.0,0.0,0.0,0.0,0.0,0.0,0.0,0.0,0.0,0.0,0.0,0.0,0.0,0.0,0.0,0.0,0.0,0.0,0.0,0.0,0.0,0.0,0.0,0.0,0.0,0.0,0.0,0.0,0.0,0.0,0.0,0.0,0.0,0.0,0.0,0.0,0.0,0.0,0.0,0.0,0.0,0.0,0.0,0.0,0.0,0.0,0.0,0.0,0.0,0.0,0.0,0.0,0.0,0.0,0.0,0.0,0.0,0.0,0.0,0.0,0.0,0.0,0.0,0.0,0.0,0.0,0.0,0.0,0.0,0.0,0.0,0.0,0.0,0.0,0.0,0.0,0.0,0.0,0.0,0.0,0.0,0.0,0.0,0.0,0.0,0.0,0.0,0.0,0.0,0.0,0.0,0.0,0.0,0.0,0.0,0.0,0.0,0.0,0.0,0.0,0.0,0.0,0.0,0.0,0.0,0.0,0.0,0.0,0.0,0.0,0.0,0.0,0.0,0.0,0.0,0.0,0.0,0.0,0.0,0.0,0.0,0.0,0.0,0.0,0.0,0.0,0.0,0.0,0.0,0.0,0.0,0.0,0.0,0.0,0.0,0.0,0.0],\"yaxis\":\"y\",\"type\":\"scatter\"},{\"fillpattern\":{\"shape\":\"\"},\"hovertemplate\":\"variable=entityID_Inventory Wells<br>production_month_year=%{x}<br>number of wells=%{y}<extra></extra>\",\"legendgroup\":\"entityID_Inventory Wells\",\"line\":{\"color\":\"#FF00FF\"},\"marker\":{\"symbol\":\"circle\"},\"mode\":\"lines\",\"name\":\"entityID_Inventory Wells\",\"orientation\":\"v\",\"showlegend\":true,\"stackgroup\":\"1\",\"x\":[\"2023-11\",\"2023-12\",\"2024-03\",\"2024-02\",\"2024-04\",\"2024-05\",\"2024-06\",\"2024-07\",\"2024-08\",\"2024-09\",\"2024-10\",\"2024-11\",\"2024-12\",\"2025-01\",\"2025-02\",\"2025-03\",\"2025-04\",\"2025-05\",\"2025-06\",\"2025-07\",\"2025-08\",\"2025-09\",\"2025-10\",\"2025-11\",\"2025-12\",\"2026-01\",\"2026-02\",\"2026-03\",\"2026-04\",\"2026-05\",\"2026-06\",\"2026-07\",\"2026-08\",\"2026-09\",\"2026-10\",\"2026-11\",\"2026-12\",\"2027-01\",\"2027-02\",\"2027-03\",\"2027-04\",\"2027-05\",\"2027-06\",\"2027-07\",\"2027-08\",\"2027-09\",\"2027-10\",\"2027-11\",\"2027-12\",\"2028-01\",\"2028-02\",\"2028-03\",\"2028-04\",\"2028-05\",\"2028-06\",\"2028-07\",\"2028-08\",\"2028-09\",\"2028-10\",\"2028-11\",\"2028-12\",\"2029-01\",\"2029-02\",\"2029-03\",\"2029-04\",\"2029-05\",\"2029-06\",\"2029-07\",\"2029-08\",\"2029-09\",\"2029-10\",\"2029-11\",\"2029-12\",\"2030-01\",\"2030-02\",\"2030-03\",\"2030-04\",\"2030-05\",\"2030-06\",\"2030-07\",\"2030-08\",\"2030-09\",\"2030-10\",\"2030-11\",\"2030-12\",\"2031-01\",\"2031-02\",\"2031-03\",\"2031-04\",\"2031-05\",\"2031-06\",\"2031-07\",\"2031-08\",\"2031-09\",\"2031-10\",\"2031-11\",\"2031-12\",\"2032-01\",\"2032-02\",\"2032-03\",\"2032-04\",\"2032-05\",\"2032-06\",\"2032-07\",\"2032-08\",\"2032-09\",\"2032-10\",\"2032-11\",\"2032-12\",\"2033-01\",\"2033-02\",\"2033-03\",\"2033-04\",\"2033-05\",\"2033-06\",\"2033-07\",\"2033-08\",\"2033-09\",\"2033-10\",\"2033-11\",\"2033-12\",\"2034-01\",\"2034-02\",\"2034-03\",\"2034-04\",\"2034-05\",\"2034-06\",\"2034-07\",\"2034-08\",\"2034-09\",\"2034-10\",\"2034-11\",\"2034-12\",\"2035-01\",\"2035-02\",\"2035-03\",\"2035-04\",\"2035-05\",\"2035-06\",\"2035-07\",\"2035-08\",\"2035-09\",\"2035-10\",\"2035-11\",\"2035-12\",\"2036-01\",\"2036-02\",\"2036-03\",\"2036-04\",\"2036-05\",\"2036-06\",\"2036-07\",\"2036-08\",\"2036-09\",\"2036-10\",\"2036-11\",\"2036-12\",\"2037-01\",\"2037-02\",\"2037-03\",\"2037-04\",\"2037-05\",\"2037-06\",\"2037-07\",\"2037-08\",\"2037-09\",\"2037-10\",\"2037-11\",\"2037-12\",\"2038-01\",\"2038-02\",\"2038-03\",\"2038-04\",\"2038-05\",\"2038-06\",\"2038-07\",\"2038-08\",\"2038-09\",\"2038-10\",\"2038-11\",\"2038-12\",\"2039-01\",\"2039-02\",\"2039-03\",\"2039-04\",\"2039-05\",\"2019-06\",\"2019-07\",\"2019-08\",\"2019-09\",\"2019-10\",\"2019-11\",\"2019-12\",\"2020-01\",\"2020-02\",\"2020-03\",\"2020-04\",\"2020-05\",\"2020-06\",\"2020-07\",\"2020-08\",\"2020-09\",\"2020-10\",\"2020-11\",\"2020-12\",\"2021-01\",\"2021-02\",\"2021-03\",\"2021-04\",\"2021-05\",\"2021-06\",\"2021-07\",\"2021-08\",\"2021-09\",\"2021-10\",\"2021-11\",\"2021-12\",\"2022-01\",\"2022-02\",\"2022-03\",\"2022-04\",\"2022-05\",\"2022-06\",\"2022-07\",\"2022-08\",\"2022-09\",\"2022-10\",\"2022-11\",\"2022-12\",\"2023-01\",\"2023-02\",\"2023-03\",\"2023-04\",\"2023-05\",\"2023-06\",\"2023-07\",\"2023-08\",\"2023-09\",\"2023-10\",\"2024-01\"],\"xaxis\":\"x\",\"y\":[0.0,0.0,1.0,0.0,6.0,15.0,26.0,18.0,25.0,24.0,26.0,20.0,24.0,25.0,15.0,27.0,25.0,24.0,19.0,23.0,26.0,21.0,24.0,22.0,20.0,23.0,25.0,24.0,19.0,25.0,25.0,22.0,25.0,23.0,26.0,16.0,27.0,30.0,12.0,28.0,24.0,18.0,23.0,27.0,27.0,18.0,21.0,28.0,23.0,22.0,23.0,25.0,18.0,25.0,26.0,20.0,23.0,23.0,31.0,14.0,25.0,26.0,14.0,24.0,27.0,22.0,19.0,24.0,30.0,16.0,25.0,27.0,20.0,23.0,28.0,26.0,21.0,27.0,28.0,17.0,30.0,28.0,27.0,22.0,27.0,26.0,18.0,32.0,21.0,23.0,28.0,26.0,28.0,18.0,29.0,32.0,17.0,23.0,27.0,27.0,17.0,27.0,29.0,15.0,30.0,27.0,26.0,17.0,29.0,24.0,17.0,27.0,29.0,19.0,25.0,25.0,31.0,10.0,30.0,26.0,17.0,24.0,26.0,25.0,18.0,30.0,22.0,12.0,22.0,23.0,18.0,14.0,25.0,22.0,12.0,25.0,23.0,11.0,21.0,21.0,22.0,18.0,19.0,21.0,18.0,24.0,20.0,13.0,17.0,18.0,17.0,13.0,22.0,9.0,13.0,16.0,15.0,10.0,11.0,14.0,14.0,10.0,16.0,12.0,11.0,9.0,12.0,12.0,10.0,11.0,12.0,10.0,13.0,10.0,12.0,11.0,11.0,11.0,8.0,9.0,8.0,9.0,8.0,10.0,10.0,8.0,0.0,0.0,0.0,0.0,0.0,0.0,0.0,0.0,0.0,0.0,0.0,0.0,0.0,0.0,0.0,0.0,0.0,0.0,0.0,0.0,0.0,0.0,0.0,0.0,0.0,0.0,0.0,0.0,0.0,0.0,0.0,0.0,0.0,0.0,0.0,0.0,0.0,0.0,0.0,0.0,0.0,0.0,0.0,0.0,0.0,0.0,0.0,0.0,0.0,0.0,0.0,0.0,0.0,0.0],\"yaxis\":\"y\",\"type\":\"scatter\"},{\"fillpattern\":{\"shape\":\"\"},\"hovertemplate\":\"variable=entityID_Drilled Completed Wells<br>production_month_year=%{x}<br>number of wells=%{y}<extra></extra>\",\"legendgroup\":\"entityID_Drilled Completed Wells\",\"line\":{\"color\":\"#FF0000\"},\"marker\":{\"symbol\":\"circle\"},\"mode\":\"lines\",\"name\":\"entityID_Drilled Completed Wells\",\"orientation\":\"v\",\"showlegend\":true,\"stackgroup\":\"1\",\"x\":[\"2023-11\",\"2023-12\",\"2024-03\",\"2024-02\",\"2024-04\",\"2024-05\",\"2024-06\",\"2024-07\",\"2024-08\",\"2024-09\",\"2024-10\",\"2024-11\",\"2024-12\",\"2025-01\",\"2025-02\",\"2025-03\",\"2025-04\",\"2025-05\",\"2025-06\",\"2025-07\",\"2025-08\",\"2025-09\",\"2025-10\",\"2025-11\",\"2025-12\",\"2026-01\",\"2026-02\",\"2026-03\",\"2026-04\",\"2026-05\",\"2026-06\",\"2026-07\",\"2026-08\",\"2026-09\",\"2026-10\",\"2026-11\",\"2026-12\",\"2027-01\",\"2027-02\",\"2027-03\",\"2027-04\",\"2027-05\",\"2027-06\",\"2027-07\",\"2027-08\",\"2027-09\",\"2027-10\",\"2027-11\",\"2027-12\",\"2028-01\",\"2028-02\",\"2028-03\",\"2028-04\",\"2028-05\",\"2028-06\",\"2028-07\",\"2028-08\",\"2028-09\",\"2028-10\",\"2028-11\",\"2028-12\",\"2029-01\",\"2029-02\",\"2029-03\",\"2029-04\",\"2029-05\",\"2029-06\",\"2029-07\",\"2029-08\",\"2029-09\",\"2029-10\",\"2029-11\",\"2029-12\",\"2030-01\",\"2030-02\",\"2030-03\",\"2030-04\",\"2030-05\",\"2030-06\",\"2030-07\",\"2030-08\",\"2030-09\",\"2030-10\",\"2030-11\",\"2030-12\",\"2031-01\",\"2031-02\",\"2031-03\",\"2031-04\",\"2031-05\",\"2031-06\",\"2031-07\",\"2031-08\",\"2031-09\",\"2031-10\",\"2031-11\",\"2031-12\",\"2032-01\",\"2032-02\",\"2032-03\",\"2032-04\",\"2032-05\",\"2032-06\",\"2032-07\",\"2032-08\",\"2032-09\",\"2032-10\",\"2032-11\",\"2032-12\",\"2033-01\",\"2033-02\",\"2033-03\",\"2033-04\",\"2033-05\",\"2033-06\",\"2033-07\",\"2033-08\",\"2033-09\",\"2033-10\",\"2033-11\",\"2033-12\",\"2034-01\",\"2034-02\",\"2034-03\",\"2034-04\",\"2034-05\",\"2034-06\",\"2034-07\",\"2034-08\",\"2034-09\",\"2034-10\",\"2034-11\",\"2034-12\",\"2035-01\",\"2035-02\",\"2035-03\",\"2035-04\",\"2035-05\",\"2035-06\",\"2035-07\",\"2035-08\",\"2035-09\",\"2035-10\",\"2035-11\",\"2035-12\",\"2036-01\",\"2036-02\",\"2036-03\",\"2036-04\",\"2036-05\",\"2036-06\",\"2036-07\",\"2036-08\",\"2036-09\",\"2036-10\",\"2036-11\",\"2036-12\",\"2037-01\",\"2037-02\",\"2037-03\",\"2037-04\",\"2037-05\",\"2037-06\",\"2037-07\",\"2037-08\",\"2037-09\",\"2037-10\",\"2037-11\",\"2037-12\",\"2038-01\",\"2038-02\",\"2038-03\",\"2038-04\",\"2038-05\",\"2038-06\",\"2038-07\",\"2038-08\",\"2038-09\",\"2038-10\",\"2038-11\",\"2038-12\",\"2039-01\",\"2039-02\",\"2039-03\",\"2039-04\",\"2039-05\",\"2019-06\",\"2019-07\",\"2019-08\",\"2019-09\",\"2019-10\",\"2019-11\",\"2019-12\",\"2020-01\",\"2020-02\",\"2020-03\",\"2020-04\",\"2020-05\",\"2020-06\",\"2020-07\",\"2020-08\",\"2020-09\",\"2020-10\",\"2020-11\",\"2020-12\",\"2021-01\",\"2021-02\",\"2021-03\",\"2021-04\",\"2021-05\",\"2021-06\",\"2021-07\",\"2021-08\",\"2021-09\",\"2021-10\",\"2021-11\",\"2021-12\",\"2022-01\",\"2022-02\",\"2022-03\",\"2022-04\",\"2022-05\",\"2022-06\",\"2022-07\",\"2022-08\",\"2022-09\",\"2022-10\",\"2022-11\",\"2022-12\",\"2023-01\",\"2023-02\",\"2023-03\",\"2023-04\",\"2023-05\",\"2023-06\",\"2023-07\",\"2023-08\",\"2023-09\",\"2023-10\",\"2024-01\"],\"xaxis\":\"x\",\"y\":[3.0,7.0,0.0,1.0,0.0,2.0,2.0,2.0,2.0,2.0,2.0,2.0,2.0,2.0,2.0,2.0,2.0,2.0,2.0,2.0,2.0,2.0,2.0,2.0,2.0,2.0,2.0,2.0,2.0,2.0,2.0,2.0,2.0,2.0,2.0,2.0,2.0,2.0,2.0,2.0,2.0,2.0,2.0,2.0,2.0,2.0,2.0,2.0,2.0,2.0,2.0,2.0,2.0,2.0,2.0,2.0,2.0,2.0,2.0,2.0,2.0,2.0,2.0,2.0,2.0,2.0,2.0,2.0,2.0,2.0,2.0,2.0,2.0,2.0,2.0,2.0,2.0,2.0,2.0,2.0,2.0,2.0,2.0,2.0,2.0,2.0,2.0,2.0,2.0,2.0,2.0,2.0,2.0,2.0,2.0,2.0,2.0,2.0,2.0,2.0,2.0,2.0,2.0,2.0,2.0,2.0,2.0,2.0,2.0,2.0,2.0,2.0,2.0,2.0,2.0,2.0,2.0,2.0,2.0,2.0,2.0,2.0,2.0,2.0,2.0,2.0,2.0,2.0,2.0,2.0,2.0,2.0,2.0,2.0,2.0,2.0,2.0,2.0,2.0,2.0,2.0,2.0,2.0,2.0,2.0,2.0,2.0,2.0,2.0,2.0,2.0,2.0,2.0,2.0,2.0,2.0,0.0,0.0,0.0,0.0,0.0,0.0,0.0,0.0,0.0,0.0,0.0,0.0,0.0,0.0,0.0,0.0,0.0,0.0,0.0,0.0,0.0,0.0,0.0,0.0,0.0,0.0,0.0,0.0,0.0,0.0,0.0,0.0,0.0,0.0,0.0,0.0,0.0,0.0,0.0,0.0,0.0,0.0,0.0,0.0,0.0,0.0,0.0,0.0,0.0,0.0,0.0,0.0,0.0,0.0,0.0,0.0,0.0,0.0,0.0,0.0,0.0,0.0,0.0,0.0,0.0,0.0,0.0,0.0,0.0,0.0,0.0,1.0,0.0,0.0,0.0,0.0,0.0,0.0,0.0,0.0,1.0,5.0,7.0,6.0],\"yaxis\":\"y\",\"type\":\"scatter\"}],                        {\"template\":{\"data\":{\"barpolar\":[{\"marker\":{\"line\":{\"color\":\"rgb(17,17,17)\",\"width\":0.5},\"pattern\":{\"fillmode\":\"overlay\",\"size\":10,\"solidity\":0.2}},\"type\":\"barpolar\"}],\"bar\":[{\"error_x\":{\"color\":\"#f2f5fa\"},\"error_y\":{\"color\":\"#f2f5fa\"},\"marker\":{\"line\":{\"color\":\"rgb(17,17,17)\",\"width\":0.5},\"pattern\":{\"fillmode\":\"overlay\",\"size\":10,\"solidity\":0.2}},\"type\":\"bar\"}],\"carpet\":[{\"aaxis\":{\"endlinecolor\":\"#A2B1C6\",\"gridcolor\":\"#506784\",\"linecolor\":\"#506784\",\"minorgridcolor\":\"#506784\",\"startlinecolor\":\"#A2B1C6\"},\"baxis\":{\"endlinecolor\":\"#A2B1C6\",\"gridcolor\":\"#506784\",\"linecolor\":\"#506784\",\"minorgridcolor\":\"#506784\",\"startlinecolor\":\"#A2B1C6\"},\"type\":\"carpet\"}],\"choropleth\":[{\"colorbar\":{\"outlinewidth\":0,\"ticks\":\"\"},\"type\":\"choropleth\"}],\"contourcarpet\":[{\"colorbar\":{\"outlinewidth\":0,\"ticks\":\"\"},\"type\":\"contourcarpet\"}],\"contour\":[{\"colorbar\":{\"outlinewidth\":0,\"ticks\":\"\"},\"colorscale\":[[0.0,\"#0d0887\"],[0.1111111111111111,\"#46039f\"],[0.2222222222222222,\"#7201a8\"],[0.3333333333333333,\"#9c179e\"],[0.4444444444444444,\"#bd3786\"],[0.5555555555555556,\"#d8576b\"],[0.6666666666666666,\"#ed7953\"],[0.7777777777777778,\"#fb9f3a\"],[0.8888888888888888,\"#fdca26\"],[1.0,\"#f0f921\"]],\"type\":\"contour\"}],\"heatmapgl\":[{\"colorbar\":{\"outlinewidth\":0,\"ticks\":\"\"},\"colorscale\":[[0.0,\"#0d0887\"],[0.1111111111111111,\"#46039f\"],[0.2222222222222222,\"#7201a8\"],[0.3333333333333333,\"#9c179e\"],[0.4444444444444444,\"#bd3786\"],[0.5555555555555556,\"#d8576b\"],[0.6666666666666666,\"#ed7953\"],[0.7777777777777778,\"#fb9f3a\"],[0.8888888888888888,\"#fdca26\"],[1.0,\"#f0f921\"]],\"type\":\"heatmapgl\"}],\"heatmap\":[{\"colorbar\":{\"outlinewidth\":0,\"ticks\":\"\"},\"colorscale\":[[0.0,\"#0d0887\"],[0.1111111111111111,\"#46039f\"],[0.2222222222222222,\"#7201a8\"],[0.3333333333333333,\"#9c179e\"],[0.4444444444444444,\"#bd3786\"],[0.5555555555555556,\"#d8576b\"],[0.6666666666666666,\"#ed7953\"],[0.7777777777777778,\"#fb9f3a\"],[0.8888888888888888,\"#fdca26\"],[1.0,\"#f0f921\"]],\"type\":\"heatmap\"}],\"histogram2dcontour\":[{\"colorbar\":{\"outlinewidth\":0,\"ticks\":\"\"},\"colorscale\":[[0.0,\"#0d0887\"],[0.1111111111111111,\"#46039f\"],[0.2222222222222222,\"#7201a8\"],[0.3333333333333333,\"#9c179e\"],[0.4444444444444444,\"#bd3786\"],[0.5555555555555556,\"#d8576b\"],[0.6666666666666666,\"#ed7953\"],[0.7777777777777778,\"#fb9f3a\"],[0.8888888888888888,\"#fdca26\"],[1.0,\"#f0f921\"]],\"type\":\"histogram2dcontour\"}],\"histogram2d\":[{\"colorbar\":{\"outlinewidth\":0,\"ticks\":\"\"},\"colorscale\":[[0.0,\"#0d0887\"],[0.1111111111111111,\"#46039f\"],[0.2222222222222222,\"#7201a8\"],[0.3333333333333333,\"#9c179e\"],[0.4444444444444444,\"#bd3786\"],[0.5555555555555556,\"#d8576b\"],[0.6666666666666666,\"#ed7953\"],[0.7777777777777778,\"#fb9f3a\"],[0.8888888888888888,\"#fdca26\"],[1.0,\"#f0f921\"]],\"type\":\"histogram2d\"}],\"histogram\":[{\"marker\":{\"pattern\":{\"fillmode\":\"overlay\",\"size\":10,\"solidity\":0.2}},\"type\":\"histogram\"}],\"mesh3d\":[{\"colorbar\":{\"outlinewidth\":0,\"ticks\":\"\"},\"type\":\"mesh3d\"}],\"parcoords\":[{\"line\":{\"colorbar\":{\"outlinewidth\":0,\"ticks\":\"\"}},\"type\":\"parcoords\"}],\"pie\":[{\"automargin\":true,\"type\":\"pie\"}],\"scatter3d\":[{\"line\":{\"colorbar\":{\"outlinewidth\":0,\"ticks\":\"\"}},\"marker\":{\"colorbar\":{\"outlinewidth\":0,\"ticks\":\"\"}},\"type\":\"scatter3d\"}],\"scattercarpet\":[{\"marker\":{\"colorbar\":{\"outlinewidth\":0,\"ticks\":\"\"}},\"type\":\"scattercarpet\"}],\"scattergeo\":[{\"marker\":{\"colorbar\":{\"outlinewidth\":0,\"ticks\":\"\"}},\"type\":\"scattergeo\"}],\"scattergl\":[{\"marker\":{\"line\":{\"color\":\"#283442\"}},\"type\":\"scattergl\"}],\"scattermapbox\":[{\"marker\":{\"colorbar\":{\"outlinewidth\":0,\"ticks\":\"\"}},\"type\":\"scattermapbox\"}],\"scatterpolargl\":[{\"marker\":{\"colorbar\":{\"outlinewidth\":0,\"ticks\":\"\"}},\"type\":\"scatterpolargl\"}],\"scatterpolar\":[{\"marker\":{\"colorbar\":{\"outlinewidth\":0,\"ticks\":\"\"}},\"type\":\"scatterpolar\"}],\"scatter\":[{\"marker\":{\"line\":{\"color\":\"#283442\"}},\"type\":\"scatter\"}],\"scatterternary\":[{\"marker\":{\"colorbar\":{\"outlinewidth\":0,\"ticks\":\"\"}},\"type\":\"scatterternary\"}],\"surface\":[{\"colorbar\":{\"outlinewidth\":0,\"ticks\":\"\"},\"colorscale\":[[0.0,\"#0d0887\"],[0.1111111111111111,\"#46039f\"],[0.2222222222222222,\"#7201a8\"],[0.3333333333333333,\"#9c179e\"],[0.4444444444444444,\"#bd3786\"],[0.5555555555555556,\"#d8576b\"],[0.6666666666666666,\"#ed7953\"],[0.7777777777777778,\"#fb9f3a\"],[0.8888888888888888,\"#fdca26\"],[1.0,\"#f0f921\"]],\"type\":\"surface\"}],\"table\":[{\"cells\":{\"fill\":{\"color\":\"#506784\"},\"line\":{\"color\":\"rgb(17,17,17)\"}},\"header\":{\"fill\":{\"color\":\"#2a3f5f\"},\"line\":{\"color\":\"rgb(17,17,17)\"}},\"type\":\"table\"}]},\"layout\":{\"annotationdefaults\":{\"arrowcolor\":\"#f2f5fa\",\"arrowhead\":0,\"arrowwidth\":1},\"autotypenumbers\":\"strict\",\"coloraxis\":{\"colorbar\":{\"outlinewidth\":0,\"ticks\":\"\"}},\"colorscale\":{\"diverging\":[[0,\"#8e0152\"],[0.1,\"#c51b7d\"],[0.2,\"#de77ae\"],[0.3,\"#f1b6da\"],[0.4,\"#fde0ef\"],[0.5,\"#f7f7f7\"],[0.6,\"#e6f5d0\"],[0.7,\"#b8e186\"],[0.8,\"#7fbc41\"],[0.9,\"#4d9221\"],[1,\"#276419\"]],\"sequential\":[[0.0,\"#0d0887\"],[0.1111111111111111,\"#46039f\"],[0.2222222222222222,\"#7201a8\"],[0.3333333333333333,\"#9c179e\"],[0.4444444444444444,\"#bd3786\"],[0.5555555555555556,\"#d8576b\"],[0.6666666666666666,\"#ed7953\"],[0.7777777777777778,\"#fb9f3a\"],[0.8888888888888888,\"#fdca26\"],[1.0,\"#f0f921\"]],\"sequentialminus\":[[0.0,\"#0d0887\"],[0.1111111111111111,\"#46039f\"],[0.2222222222222222,\"#7201a8\"],[0.3333333333333333,\"#9c179e\"],[0.4444444444444444,\"#bd3786\"],[0.5555555555555556,\"#d8576b\"],[0.6666666666666666,\"#ed7953\"],[0.7777777777777778,\"#fb9f3a\"],[0.8888888888888888,\"#fdca26\"],[1.0,\"#f0f921\"]]},\"colorway\":[\"#636efa\",\"#EF553B\",\"#00cc96\",\"#ab63fa\",\"#FFA15A\",\"#19d3f3\",\"#FF6692\",\"#B6E880\",\"#FF97FF\",\"#FECB52\"],\"font\":{\"color\":\"#f2f5fa\"},\"geo\":{\"bgcolor\":\"rgb(17,17,17)\",\"lakecolor\":\"rgb(17,17,17)\",\"landcolor\":\"rgb(17,17,17)\",\"showlakes\":true,\"showland\":true,\"subunitcolor\":\"#506784\"},\"hoverlabel\":{\"align\":\"left\"},\"hovermode\":\"closest\",\"mapbox\":{\"style\":\"dark\"},\"paper_bgcolor\":\"rgb(17,17,17)\",\"plot_bgcolor\":\"rgb(17,17,17)\",\"polar\":{\"angularaxis\":{\"gridcolor\":\"#506784\",\"linecolor\":\"#506784\",\"ticks\":\"\"},\"bgcolor\":\"rgb(17,17,17)\",\"radialaxis\":{\"gridcolor\":\"#506784\",\"linecolor\":\"#506784\",\"ticks\":\"\"}},\"scene\":{\"xaxis\":{\"backgroundcolor\":\"rgb(17,17,17)\",\"gridcolor\":\"#506784\",\"gridwidth\":2,\"linecolor\":\"#506784\",\"showbackground\":true,\"ticks\":\"\",\"zerolinecolor\":\"#C8D4E3\"},\"yaxis\":{\"backgroundcolor\":\"rgb(17,17,17)\",\"gridcolor\":\"#506784\",\"gridwidth\":2,\"linecolor\":\"#506784\",\"showbackground\":true,\"ticks\":\"\",\"zerolinecolor\":\"#C8D4E3\"},\"zaxis\":{\"backgroundcolor\":\"rgb(17,17,17)\",\"gridcolor\":\"#506784\",\"gridwidth\":2,\"linecolor\":\"#506784\",\"showbackground\":true,\"ticks\":\"\",\"zerolinecolor\":\"#C8D4E3\"}},\"shapedefaults\":{\"line\":{\"color\":\"#f2f5fa\"}},\"sliderdefaults\":{\"bgcolor\":\"#C8D4E3\",\"bordercolor\":\"rgb(17,17,17)\",\"borderwidth\":1,\"tickwidth\":0},\"ternary\":{\"aaxis\":{\"gridcolor\":\"#506784\",\"linecolor\":\"#506784\",\"ticks\":\"\"},\"baxis\":{\"gridcolor\":\"#506784\",\"linecolor\":\"#506784\",\"ticks\":\"\"},\"bgcolor\":\"rgb(17,17,17)\",\"caxis\":{\"gridcolor\":\"#506784\",\"linecolor\":\"#506784\",\"ticks\":\"\"}},\"title\":{\"x\":0.05},\"updatemenudefaults\":{\"bgcolor\":\"#506784\",\"borderwidth\":0},\"xaxis\":{\"automargin\":true,\"gridcolor\":\"#283442\",\"linecolor\":\"#506784\",\"ticks\":\"\",\"title\":{\"standoff\":15},\"zerolinecolor\":\"#283442\",\"zerolinewidth\":2},\"yaxis\":{\"automargin\":true,\"gridcolor\":\"#283442\",\"linecolor\":\"#506784\",\"ticks\":\"\",\"title\":{\"standoff\":15},\"zerolinecolor\":\"#283442\",\"zerolinewidth\":2}}},\"xaxis\":{\"anchor\":\"y\",\"domain\":[0.0,1.0],\"title\":{\"text\":\"Time\"}},\"yaxis\":{\"anchor\":\"x\",\"domain\":[0.0,1.0],\"title\":{\"text\":\"number of wells\"}},\"legend\":{\"title\":{\"text\":\"variable\"},\"tracegroupgap\":0},\"title\":{\"text\":\"Stacked Plot for wells coming online for all wells status\"}},                        {\"responsive\": true}                    )                };                            </script>        </div>\n",
       "</body>\n",
       "</html>"
      ]
     },
     "metadata": {},
     "output_type": "display_data"
    }
   ],
   "source": [
    "Stacked_plot_wells_coming_online_for_all_wells('2019-01-01', '2040-12-31', final_df, reservoir=\"HAYNESVILLE\")"
   ]
  },
  {
   "cell_type": "code",
   "execution_count": 0,
   "metadata": {
    "application/vnd.databricks.v1+cell": {
     "cellMetadata": {
      "byteLimit": 2048000,
      "rowLimit": 10000
     },
     "inputWidgets": {},
     "nuid": "4c71f7b8-88a6-4892-a9d5-5db983acf911",
     "showTitle": false,
     "title": ""
    }
   },
   "outputs": [],
   "source": []
  }
 ],
 "metadata": {
  "application/vnd.databricks.v1+notebook": {
   "dashboards": [],
   "environmentMetadata": null,
   "language": "python",
   "notebookMetadata": {
    "mostRecentlyExecutedCommandWithImplicitDF": {
     "commandId": 3463741269674993,
     "dataframes": [
      "_sqldf"
     ]
    },
    "pythonIndentUnit": 4
   },
   "notebookName": "05-DRILL-OUT-MODEL-BACKTESTING",
   "widgets": {}
  }
 },
 "nbformat": 4,
 "nbformat_minor": 0
}
